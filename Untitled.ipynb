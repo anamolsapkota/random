{
 "cells": [
  {
   "cell_type": "code",
   "execution_count": 4,
   "metadata": {},
   "outputs": [],
   "source": [
    "class Arithmetic(object):\n",
    "    def add(x,y):\n",
    "        return x+y\n",
    "    def subtract(x,y):\n",
    "        return x-y\n",
    "    def multiply(x,y):\n",
    "        return x*y\n",
    "    def divide(x,y):\n",
    "        return x/y"
   ]
  },
  {
   "cell_type": "code",
   "execution_count": 5,
   "metadata": {},
   "outputs": [
    {
     "name": "stderr",
     "output_type": "stream",
     "text": [
      "E\n",
      "======================================================================\n",
      "ERROR: /run/user/1000/jupyter/kernel-9a201989-8bb4-44f1-840a-dd9dff0d0982 (unittest.loader._FailedTest)\n",
      "----------------------------------------------------------------------\n",
      "AttributeError: module '__main__' has no attribute '/run/user/1000/jupyter/kernel-9a201989-8bb4-44f1-840a-dd9dff0d0982'\n",
      "\n",
      "----------------------------------------------------------------------\n",
      "Ran 1 test in 0.001s\n",
      "\n",
      "FAILED (errors=1)\n"
     ]
    },
    {
     "ename": "SystemExit",
     "evalue": "True",
     "output_type": "error",
     "traceback": [
      "An exception has occurred, use %tb to see the full traceback.\n",
      "\u001b[0;31mSystemExit\u001b[0m\u001b[0;31m:\u001b[0m True\n"
     ]
    },
    {
     "name": "stderr",
     "output_type": "stream",
     "text": [
      "/usr/lib/python3/dist-packages/IPython/core/interactiveshell.py:2886: UserWarning: To exit: use 'exit', 'quit', or Ctrl-D.\n",
      "  warn(\"To exit: use 'exit', 'quit', or Ctrl-D.\", stacklevel=1)\n"
     ]
    }
   ],
   "source": [
    "import Arimport unittest  # This loads the testing methods and a main program\n",
    "\n",
    "class TestArithmetic(unittest.TestCase):  # TestArithmetic module loaded for unit testing\n",
    "\n",
    "    def setUp(self):\n",
    "        self.rational = Rational()\n",
    "\n",
    "    def testAdd(self):\n",
    "        self.assertEqual(4, self.rational.add(2, 2))      # first test\n",
    "        self.assertEqual(10, self.rational.add(3, 7))     # second test\n",
    "        self.assertEqual(90, self.rational.add(-10, 100)) # third test\n",
    "\n",
    "    def testSubtract(self):\n",
    "        self.assertEqual(4, self.rational.subtract(6, 2))      # first test\n",
    "        self.assertEqual(23, self.rational.subtract(30, 7))     # second test\n",
    "        self.assertEqual(400, self.rational.subtract(500, 100)) # third test\n",
    "\n",
    "    def testDivide(self):\n",
    "        self.assertEqual(4, self.rational.divide(8, 2))      # first test\n",
    "        self.assertEqual(10, self.rational.divide(100, 10))     # second test\n",
    "        self.assertEqual(2, self.rational.divide(4, 2)) # third test\n",
    "\n",
    "    def testMultiply(self):\n",
    "        self.assertEqual(4, self.rational.multiply(2, 2))      # first test\n",
    "        self.assertEqual(21, self.rational.multiply(3, 7))     # second test\n",
    "        self.assertEqual(1000, self.rational.multiply(10, 100)) # third test\n",
    "\n",
    "\n",
    "\n",
    "\n",
    "unittest.main()  # outside the class--this tells the framework to run"
   ]
  },
  {
   "cell_type": "code",
   "execution_count": 3,
   "metadata": {},
   "outputs": [
    {
     "ename": "SyntaxError",
     "evalue": "invalid syntax (<ipython-input-3-fc2ad5599056>, line 2)",
     "output_type": "error",
     "traceback": [
      "\u001b[0;36m  File \u001b[0;32m\"<ipython-input-3-fc2ad5599056>\"\u001b[0;36m, line \u001b[0;32m2\u001b[0m\n\u001b[0;31m    def __init__\u001b[0m\n\u001b[0m                ^\u001b[0m\n\u001b[0;31mSyntaxError\u001b[0m\u001b[0;31m:\u001b[0m invalid syntax\n"
     ]
    }
   ],
   "source": []
  },
  {
   "cell_type": "code",
   "execution_count": null,
   "metadata": {},
   "outputs": [],
   "source": []
  }
 ],
 "metadata": {
  "kernelspec": {
   "display_name": "Python 3",
   "language": "python",
   "name": "python3"
  },
  "language_info": {
   "codemirror_mode": {
    "name": "ipython",
    "version": 3
   },
   "file_extension": ".py",
   "mimetype": "text/x-python",
   "name": "python",
   "nbconvert_exporter": "python",
   "pygments_lexer": "ipython3",
   "version": "3.7.3"
  }
 },
 "nbformat": 4,
 "nbformat_minor": 2
}
