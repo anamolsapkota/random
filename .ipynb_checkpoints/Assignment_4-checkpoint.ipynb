{
 "cells": [
  {
   "cell_type": "markdown",
   "metadata": {},
   "source": [
    "### 1. WAP to display the multiplication table.\n",
    "    Hint:\n",
    "       2*1=2\n",
    "       2*2=4\n",
    "       2*3=6\n",
    "       ...."
   ]
  },
  {
   "cell_type": "code",
   "execution_count": 4,
   "metadata": {},
   "outputs": [
    {
     "name": "stdout",
     "output_type": "stream",
     "text": [
      "Enter the number:2\n",
      "2 * 1 = 2\n",
      "2 * 2 = 4\n",
      "2 * 3 = 6\n",
      "2 * 4 = 8\n",
      "2 * 5 = 10\n",
      "2 * 6 = 12\n",
      "2 * 7 = 14\n",
      "2 * 8 = 16\n",
      "2 * 9 = 18\n",
      "2 * 10 = 20\n"
     ]
    }
   ],
   "source": [
    "n = int(input(\"Enter the number:\"))\n",
    "for i in range(1,11):\n",
    "    print(\"{} * {} = {}\".format(n,i,n*i))"
   ]
  },
  {
   "cell_type": "markdown",
   "metadata": {},
   "source": [
    "### 2. WAP to swap two variables."
   ]
  },
  {
   "cell_type": "code",
   "execution_count": 6,
   "metadata": {},
   "outputs": [
    {
     "name": "stdout",
     "output_type": "stream",
     "text": [
      "Enter the value of a: 5\n",
      "Enter the value of a: 6\n",
      "Original values:\n",
      " 5 6\n",
      "After swap:\n",
      " 6 5\n"
     ]
    }
   ],
   "source": [
    "a = input(\"Enter the value of a: \")\n",
    "b = input(\"Enter the value of a: \")\n",
    "print(\"Original values:\\n\", a, b)\n",
    "a, b = b, a\n",
    "print(\"After swap:\\n\", a, b)"
   ]
  },
  {
   "cell_type": "markdown",
   "metadata": {},
   "source": [
    "### 3. WAP to take input from console and check prime number."
   ]
  },
  {
   "cell_type": "code",
   "execution_count": 9,
   "metadata": {},
   "outputs": [
    {
     "name": "stdout",
     "output_type": "stream",
     "text": [
      "Enter a number:5\n",
      "5 is a prime\n"
     ]
    }
   ],
   "source": [
    "num = int(input(\"Enter a number:\"))\n",
    "c = 0\n",
    "for i in range(1,num+1):\n",
    "    if num%i==0:\n",
    "        c +=1\n",
    "if c == 2:\n",
    "    print(num, \"is a prime number\")\n",
    "else:\n",
    "    print(num, \"is not a prime number\")"
   ]
  },
  {
   "cell_type": "markdown",
   "metadata": {},
   "source": [
    "### 4. A list of numbers, iterate it and print only those numbers which are divisible of 5."
   ]
  },
  {
   "cell_type": "code",
   "execution_count": 17,
   "metadata": {},
   "outputs": [
    {
     "name": "stdout",
     "output_type": "stream",
     "text": [
      "15\n",
      "25\n",
      "60\n"
     ]
    }
   ],
   "source": [
    "num = [14,15,16,17,25,67,60]\n",
    "for i in num:\n",
    "    if i%5==0:\n",
    "        print(i)"
   ]
  },
  {
   "cell_type": "markdown",
   "metadata": {},
   "source": [
    "### 5. Print the following pattern.\n",
    "\t1\n",
    "\t2 2\n",
    "\t3 3 3\n",
    "\t4 4 4 4\n",
    "\t5 5 5 5 5"
   ]
  },
  {
   "cell_type": "code",
   "execution_count": 19,
   "metadata": {},
   "outputs": [
    {
     "name": "stdout",
     "output_type": "stream",
     "text": [
      "Enter a number:9\n",
      "1 \n",
      "2 2 \n",
      "3 3 3 \n",
      "4 4 4 4 \n",
      "5 5 5 5 5 \n",
      "6 6 6 6 6 6 \n",
      "7 7 7 7 7 7 7 \n",
      "8 8 8 8 8 8 8 8 \n",
      "9 9 9 9 9 9 9 9 9 \n"
     ]
    }
   ],
   "source": [
    "n = int(input(\"Enter a number:\"))\n",
    "for i in range(1, n+1):\n",
    "    for j in range(i):\n",
    "        print(i, end=' ')\n",
    "    print()"
   ]
  },
  {
   "cell_type": "markdown",
   "metadata": {},
   "source": [
    "### 6. Reverse a given number and return true if it is the same as the original number."
   ]
  },
  {
   "cell_type": "code",
   "execution_count": 32,
   "metadata": {},
   "outputs": [
    {
     "name": "stdout",
     "output_type": "stream",
     "text": [
      "Enter a number:101\n",
      "True\n"
     ]
    }
   ],
   "source": [
    "n = int(input(\"Enter a number:\"))\n",
    "print(\"True\") if((int(str(n)[:: -1]))==n) else print(\"False\")"
   ]
  },
  {
   "cell_type": "markdown",
   "metadata": {},
   "source": [
    "### 7. Write a function called 'divisible_number' that takes a number.\n",
    "    a.If the number is divisible by 3, it should return \"THREE\".\n",
    "    b.If it is divisible by 5, it should return \"FIVE\".\n",
    "    c.If it is divisible by both 3 and 5, it should return \"THREE-FIVE”.\n",
    "    d.Otherwise, it should return the same number."
   ]
  },
  {
   "cell_type": "code",
   "execution_count": 33,
   "metadata": {},
   "outputs": [
    {
     "name": "stdout",
     "output_type": "stream",
     "text": [
      "Enter a number:45\n"
     ]
    },
    {
     "data": {
      "text/plain": [
       "'THREE-FIVE'"
      ]
     },
     "execution_count": 33,
     "metadata": {},
     "output_type": "execute_result"
    }
   ],
   "source": [
    "n = int(input(\"Enter a number:\"))\n",
    "\n",
    "def divisible_number(x):\n",
    "    if x%3==0 and x%5==0:\n",
    "        return \"THREE-FIVE\"\n",
    "    elif x%5==0:\n",
    "        return \"Five\"\n",
    "    elif x%3==0:\n",
    "        return \"Three\"\n",
    "    else:\n",
    "        return x\n",
    "divisible_number(n)"
   ]
  },
  {
   "cell_type": "markdown",
   "metadata": {},
   "source": [
    "### 8. What is the result of 10 ** 3?"
   ]
  },
  {
   "cell_type": "code",
   "execution_count": 34,
   "metadata": {},
   "outputs": [
    {
     "name": "stdout",
     "output_type": "stream",
     "text": [
      "1000\n"
     ]
    }
   ],
   "source": [
    "print(10**3)"
   ]
  },
  {
   "cell_type": "markdown",
   "metadata": {},
   "source": [
    "### 9. What is the difference between a parameter and an argument?"
   ]
  },
  {
   "cell_type": "markdown",
   "metadata": {},
   "source": [
    "    Parameter is a variable defined by a method that receives a value when the method is called.\n",
    "    Argument is a value that is passed to a method when it is invoked."
   ]
  },
  {
   "cell_type": "markdown",
   "metadata": {},
   "source": [
    "### 10. Given an input string Count all lower case, upper case, digits, and special symbols.\n",
    "    Hint:\n",
    "    s1 = \"P@#yn26at^&i5ve\"\n",
    "    Chars = 8, Digits = 3, Symbol = 4"
   ]
  },
  {
   "cell_type": "code",
   "execution_count": 37,
   "metadata": {},
   "outputs": [
    {
     "name": "stdout",
     "output_type": "stream",
     "text": [
      "Enter the number: kdjksdf.jk101001\n",
      "Characters: 9\n",
      "Digits: 6\n",
      "Symbols: 1\n"
     ]
    }
   ],
   "source": [
    "num = (str(input(\"Enter the number: \"))).strip()\n",
    "char=0\n",
    "digit=0\n",
    "symbol=0\n",
    "for i in num:\n",
    "    if i.isalpha():\n",
    "        char +=1\n",
    "    elif i.isdigit():\n",
    "        digit += 1\n",
    "    else:\n",
    "        symbol +=1\n",
    "print(\"Characters: {}\\nDigits: {}\\nSymbols: {}\".format(char, digit, symbol))"
   ]
  },
  {
   "cell_type": "code",
   "execution_count": null,
   "metadata": {},
   "outputs": [],
   "source": []
  }
 ],
 "metadata": {
  "kernelspec": {
   "display_name": "Python 3",
   "language": "python",
   "name": "python3"
  },
  "language_info": {
   "codemirror_mode": {
    "name": "ipython",
    "version": 3
   },
   "file_extension": ".py",
   "mimetype": "text/x-python",
   "name": "python",
   "nbconvert_exporter": "python",
   "pygments_lexer": "ipython3",
   "version": "3.7.3"
  }
 },
 "nbformat": 4,
 "nbformat_minor": 2
}
