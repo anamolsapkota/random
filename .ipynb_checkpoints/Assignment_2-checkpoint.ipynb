{
 "cells": [
  {
   "cell_type": "markdown",
   "metadata": {},
   "source": [
    "# Conditional statement and Loop"
   ]
  },
  {
   "cell_type": "markdown",
   "metadata": {},
   "source": [
    "### 1. Write a Python program to find those numbers which are divisible by 7 and multiple of 5, between 1500 and 2700 (both included)."
   ]
  },
  {
   "cell_type": "code",
   "execution_count": 4,
   "metadata": {},
   "outputs": [
    {
     "name": "stdout",
     "output_type": "stream",
     "text": [
      "Enter the first number: 1500\n",
      "Enter the second number: 2700\n",
      "['1505', '1540', '1575', '1610', '1645', '1680', '1715', '1750', '1785', '1820', '1855', '1890', '1925', '1960', '1995', '2030', '2065', '2100', '2135', '2170', '2205', '2240', '2275', '2310', '2345', '2380', '2415', '2450', '2485', '2520', '2555', '2590', '2625', '2660', '2695']\n"
     ]
    }
   ],
   "source": [
    "ls =[]\n",
    "m = int(input(\"Enter the first number: \"))\n",
    "n = int(input(\"Enter the second number: \"))\n",
    "\n",
    "for x in range(m, n+1):\n",
    "    if (x%7==0) and (x%5==0):\n",
    "        ls.append(str(x))\n",
    "print(ls)"
   ]
  },
  {
   "cell_type": "markdown",
   "metadata": {},
   "source": [
    "### 2. Create a for loop that prompts the user for a hobby 3 times, then appends each one to hobbies."
   ]
  },
  {
   "cell_type": "code",
   "execution_count": 5,
   "metadata": {},
   "outputs": [
    {
     "name": "stdout",
     "output_type": "stream",
     "text": [
      "Hobby: a\n",
      "Hobby: b\n",
      "Hobby: c\n",
      "['a', 'b', 'c']\n"
     ]
    }
   ],
   "source": [
    "hobbies = []\n",
    "\n",
    "for i in range(3):\n",
    "    hobby = input(\"Hobby: \")\n",
    "    hobbies.append(hobby)\n",
    "\n",
    "print(hobbies)"
   ]
  },
  {
   "cell_type": "markdown",
   "metadata": {},
   "source": [
    "# 3. We add a Leap Day on February 29, almost every four years. The leap day is an extra, or intercalary day and we add it to the shortest month of the year, February.\n",
    "    In the Gregorian calendar three criteria must be taken into account to identify leap years:\n",
    "\n",
    "    The year can be evenly divided by 4, is a leap year, unless:\n",
    "    The year can be evenly divided by 100, it is NOT a leap year, unless:\n",
    "    The year is also evenly divisible by 400. Then it is a leap year.\n",
    "    This means that in the Gregorian calendar, the years 2000 and 2400 are leap years, while 1800, 1900, 2100, 2200, 2300 and 2500 are NOT leap years.\n"
   ]
  },
  {
   "cell_type": "code",
   "execution_count": 17,
   "metadata": {},
   "outputs": [
    {
     "name": "stdout",
     "output_type": "stream",
     "text": [
      "Enter a year: 2000\n",
      "2000 : True\n"
     ]
    }
   ],
   "source": [
    "leap = False\n",
    "\n",
    "year = int(input(\"Enter a year: \"))\n",
    "\n",
    "if year % 400 == 0:\n",
    "    leap = True\n",
    "elif year % 100 == 0:\n",
    "    leap = False\n",
    "elif year % 4 == 0:\n",
    "    leap = True\n",
    "print(\"{} : {}\".format(year, leap))"
   ]
  },
  {
   "cell_type": "markdown",
   "metadata": {},
   "source": [
    "### 4. Write a Python program to count the number of even and odd numbers from a series of numbers.\n",
    "\tSample numbers : numbers = (1, 2, 3, 4, 5, 6, 7, 8, 9) \n",
    "\tExpected Output : \n",
    "\tNumber of even numbers : 5\n",
    "\tNumber of odd numbers : 4"
   ]
  },
  {
   "cell_type": "code",
   "execution_count": 28,
   "metadata": {},
   "outputs": [
    {
     "name": "stdout",
     "output_type": "stream",
     "text": [
      "Number of even numbers : 5\n",
      "Number of odd numbers : 4\n"
     ]
    }
   ],
   "source": [
    "numbers = (1, 2, 3, 4, 5, 6, 7, 8, 9)\n",
    "oddc = 0\n",
    "evenc = 0\n",
    "\n",
    "for i in numbers:\n",
    "    if i%2:\n",
    "        evenc+=1\n",
    "    else:\n",
    "        oddc+=1\n",
    "print(\"Number of even numbers : {}\\nNumber of odd numbers : {}\".format(evenc, oddc))"
   ]
  },
  {
   "cell_type": "markdown",
   "metadata": {},
   "source": [
    "### 5. Write a Python program that prints all the numbers from 0 to 6 except 3 and 6.\n",
    "\tNote : Use 'continue' statement. \n",
    "\tExpected Output : 0 1 2 4 5 "
   ]
  },
  {
   "cell_type": "code",
   "execution_count": 38,
   "metadata": {},
   "outputs": [
    {
     "name": "stdout",
     "output_type": "stream",
     "text": [
      "0 1 2 4 5 "
     ]
    }
   ],
   "source": [
    "for i in range(0, 7):\n",
    "    if(i==3 or i==6):\n",
    "        continue\n",
    "    print(i, end = ' ')\n",
    "\n",
    "#The continue statement rejects all the remaining statements in the current iteration of the loop\n",
    "#and moves the control back to the top of the loop."
   ]
  },
  {
   "cell_type": "markdown",
   "metadata": {},
   "source": [
    "### 6.  Write a Python program which takes two digits m (row) and n (column) as input and generates a two-dimensional array. The element value in the i-th row and j-th column of the array should be i*j. \n",
    "\tNote :\n",
    "\ti = 0,1.., m-1 \n",
    "\tj = 0,1, n-1.\n",
    "\n",
    "\tTest Data : Rows = 3, Columns = 4 \n",
    "\tExpected Result : [[0, 0, 0, 0], [0, 1, 2, 3], [0, 2, 4, 6]]"
   ]
  },
  {
   "cell_type": "code",
   "execution_count": 40,
   "metadata": {},
   "outputs": [
    {
     "name": "stdout",
     "output_type": "stream",
     "text": [
      "Enter the number of rows: 3\n",
      "Enter the number of columns: 4\n",
      "[[0, 0, 0, 0], [0, 1, 2, 3], [0, 2, 4, 6]]\n"
     ]
    }
   ],
   "source": [
    "m = int(input(\"Enter the number of rows: \"))\n",
    "n = int(input(\"Enter the number of columns: \"))\n",
    "\n",
    "rows = list()\n",
    "cols = list()\n",
    "\n",
    "for i in range(m):\n",
    "    for j in range(n):\n",
    "        cols.append(i*j)\n",
    "    rows.append(cols)\n",
    "    cols = []\n",
    "\n",
    "print(rows)        "
   ]
  },
  {
   "cell_type": "markdown",
   "metadata": {},
   "source": [
    "# 7. Write a Python program to check the validity of password input by users.\n",
    "\tValidation :\n",
    "\n",
    "\tAt least 1 letter between [a-z] and 1 letter between [A-Z].\n",
    "\tAt least 1 number between [0-9].\n",
    "\tAt least 1 character from [$#@].\n",
    "\tMinimum length 6 characters.\n",
    "\tMaximum length 16 characters."
   ]
  },
  {
   "cell_type": "code",
   "execution_count": 49,
   "metadata": {},
   "outputs": [
    {
     "name": "stdout",
     "output_type": "stream",
     "text": [
      "Enter a password: djkslksdmsl1A#\n",
      "Your password is valid\n"
     ]
    }
   ],
   "source": [
    "pw = input(\"Enter a password: \")\n",
    "sym = ['$', '#', '@']\n",
    "\n",
    "if len(pw)<6:\n",
    "    print(\"Your password must be 6 characters long.\")\n",
    "elif len(pw)>16:\n",
    "    print(\"Maximum length of password allowed is 16.\")\n",
    "elif not any(char.isdigit() for char in pw):\n",
    "    print(\"Make sure your password has a number in it\")\n",
    "elif not any(char.isupper() for char in pw): \n",
    "    print(\"Make sure your password has at least 1 uppercase.\")\n",
    "elif not any(char.islower() for char in pw):\n",
    "    print(\"Make sure your password has at least 1 lowercase.\")\n",
    "elif not any(char in sym for char in pw):\n",
    "    print(\"Make sure your password has at least 1 symbol {}\".format(sym))\n",
    "else:\n",
    "    print(\"Your password is valid\")"
   ]
  },
  {
   "cell_type": "markdown",
   "metadata": {},
   "source": [
    "### 8. Write a Python program to calculate a dog's age in dog's years.\n",
    "\tNote: For the first two years, a dog year is equal to 10.5 human years. After that,\n",
    "    each dog year equals 4 human years.\n",
    "    \n",
    "\tExpected Output:\n",
    "        Input a dog's age in human years: 15                                    \n",
    "        The dog's age in dog's years is 73"
   ]
  },
  {
   "cell_type": "code",
   "execution_count": 59,
   "metadata": {},
   "outputs": [
    {
     "name": "stdout",
     "output_type": "stream",
     "text": [
      "Input a dog's age in human years: 15\n",
      "The dog's age in dog's years is 73\n"
     ]
    }
   ],
   "source": [
    "age_h = int(input(\"Input a dog's age in human years: \"))\n",
    "\n",
    "if age_h < 0:\n",
    "    print(\"Age must be positive number.\")\n",
    "    exit()\n",
    "elif age_h <= 2:\n",
    "    age_d = age_h * 10.5\n",
    "else:\n",
    "    age_d = 21 + (age_h - 2) * 4 # 10.5*2 years is 21 [if done: (10.5*2) instead of 21 gives float]\n",
    "\n",
    "print(\"The dog's age in dog's years is\", age_d)"
   ]
  },
  {
   "cell_type": "markdown",
   "metadata": {},
   "source": [
    "### 9. Write a Python program to construct the following pattern, using a nested loop number.\n",
    "\tExpected Output:\n",
    "\n",
    "\t1\n",
    "\t22\n",
    "\t333\n",
    "\t4444\n",
    "\t55555\n",
    "\t666666\n",
    "\t7777777\n",
    "\t88888888\n",
    "\t999999999"
   ]
  },
  {
   "cell_type": "code",
   "execution_count": 62,
   "metadata": {},
   "outputs": [
    {
     "name": "stdout",
     "output_type": "stream",
     "text": [
      "Enter a number: 9\n",
      "\n",
      "1\n",
      "22\n",
      "333\n",
      "4444\n",
      "55555\n",
      "666666\n",
      "7777777\n",
      "88888888\n",
      "999999999\n"
     ]
    }
   ],
   "source": [
    "n = int(input(\"Enter a number: \"))\n",
    "\n",
    "for i in range(n+1):\n",
    "    print(str(i) * i)"
   ]
  },
  {
   "cell_type": "markdown",
   "metadata": {},
   "source": [
    "# Functions"
   ]
  },
  {
   "cell_type": "markdown",
   "metadata": {},
   "source": [
    "### 1. Write a Python function to find the Max of three numbers."
   ]
  },
  {
   "cell_type": "code",
   "execution_count": 65,
   "metadata": {},
   "outputs": [
    {
     "name": "stdout",
     "output_type": "stream",
     "text": [
      "Enter a number 1: 34\n",
      "Enter a number 2: 56\n",
      "Enter a number 3: 21\n",
      "Maximum of the given numbers is:  56\n"
     ]
    }
   ],
   "source": [
    "def maximum(a, b, c): \n",
    "  \n",
    "    if (a >= b) and (a >= b): \n",
    "        largest = a \n",
    "  \n",
    "    elif (b >= a) and (b >= a): \n",
    "        largest = b \n",
    "    else: \n",
    "        largest = c \n",
    "          \n",
    "    return largest\n",
    "\n",
    "a = int(input(\"Enter a number 1: \"))\n",
    "b = int(input(\"Enter a number 2: \"))\n",
    "c = int(input(\"Enter a number 3: \"))\n",
    "print(\"Maximum of the given numbers is: \", maximum(a, b, c))"
   ]
  },
  {
   "cell_type": "markdown",
   "metadata": {},
   "source": [
    "### 2. Write a Python function to sum all the numbers in a list. \n",
    "\tSample List : (8, 2, 3, 0, 7)\n",
    "\tExpected Output : 20 "
   ]
  },
  {
   "cell_type": "code",
   "execution_count": 104,
   "metadata": {},
   "outputs": [
    {
     "name": "stdout",
     "output_type": "stream",
     "text": [
      "20\n"
     ]
    }
   ],
   "source": [
    "def s(li):\n",
    "    v = 0\n",
    "    for n in li:\n",
    "        v = v + n\n",
    "    return v\n",
    "l = [8, 2, 3, 0, 7]\n",
    "print(s(l))"
   ]
  },
  {
   "cell_type": "markdown",
   "metadata": {},
   "source": [
    "### 3. Write a Python function to calculate the factorial of a number (a non-negative integer). The function accepts the number as an argument. "
   ]
  },
  {
   "cell_type": "code",
   "execution_count": 78,
   "metadata": {},
   "outputs": [
    {
     "name": "stdout",
     "output_type": "stream",
     "text": [
      "Input a number to find the factorial: a\n",
      "Input is invalid.\n"
     ]
    }
   ],
   "source": [
    "def factorial(n):\n",
    "    if n == 0:\n",
    "        return 1\n",
    "    else:\n",
    "        return n * factorial(n-1)\n",
    "try:\n",
    "    n = int(input(\"Input a number to find the factorial: \"))\n",
    "    print(factorial(n))\n",
    "    \n",
    "except:\n",
    "    print(\"Input is invalid.\")"
   ]
  },
  {
   "cell_type": "markdown",
   "metadata": {},
   "source": [
    "### 4. Define a function is_even that will take a number x as input. If x is even, then return True. Otherwise, return False. Note: even means that is divisible by two. Check if it works."
   ]
  },
  {
   "cell_type": "code",
   "execution_count": 103,
   "metadata": {},
   "outputs": [
    {
     "name": "stdout",
     "output_type": "stream",
     "text": [
      "Enter a number: 8904\n",
      "Even\n"
     ]
    }
   ],
   "source": [
    "def is_even(x):\n",
    "    if(x%2==0):\n",
    "        return True\n",
    "    else:\n",
    "        return False\n",
    "try:\n",
    "    i = int(input(\"Enter a number: \"))\n",
    "    print(\"Even\" if is_even(i) is True else \"Odd\")\n",
    "except:\n",
    "    print(\"Invalid input\")"
   ]
  },
  {
   "cell_type": "markdown",
   "metadata": {},
   "source": [
    "### 5. Write a function called digit_sum that takes a positive integer n as input and returns the sum of all that number's digits."
   ]
  },
  {
   "cell_type": "code",
   "execution_count": 114,
   "metadata": {},
   "outputs": [
    {
     "name": "stdout",
     "output_type": "stream",
     "text": [
      "Enter an integer: 56\n",
      "Sum of digits:  11\n"
     ]
    }
   ],
   "source": [
    "def digit_sum(n):\n",
    "    d = 0\n",
    "    number = str(n)\n",
    "    for i in range(len(number)):\n",
    "        d = d + int(number[i])\n",
    "    return d\n",
    "try:\n",
    "    x = int(input(\"Enter an integer: \"))\n",
    "    print(\"Sum of digits: \", digit_sum(x))\n",
    "except:\n",
    "    print(\"Invalid input\")"
   ]
  },
  {
   "cell_type": "markdown",
   "metadata": {},
   "source": [
    "### 6.  Write a Python function that accepts a string and calculate the number of upper case letters and lower case letters.\n",
    "\tSample String : 'The quick Brow Fox'\n",
    "\tExpected Output : \n",
    "\tNo. of Upper case characters : 3\n",
    "\tNo. of Lower case Characters : 12"
   ]
  },
  {
   "cell_type": "code",
   "execution_count": 129,
   "metadata": {},
   "outputs": [
    {
     "name": "stdout",
     "output_type": "stream",
     "text": [
      "Enter a string: The quick Brow Fox\n",
      "No. of Upper case characters:  3\n",
      "No. of Lower case Characters:  12\n"
     ]
    }
   ],
   "source": [
    "def count(s):\n",
    "    upper = 0\n",
    "    lower = 0\n",
    "    \n",
    "    for c in s:\n",
    "        if c.isupper():\n",
    "            upper+=1\n",
    "        elif c.islower():\n",
    "            lower+=1\n",
    "        else:\n",
    "            pass\n",
    "    print (\"No. of Upper case characters: \", upper)\n",
    "    print (\"No. of Lower case Characters: \", lower)\n",
    "\n",
    "count(input(\"Enter a string: \"))"
   ]
  },
  {
   "cell_type": "markdown",
   "metadata": {},
   "source": [
    "### 7. Write a shutting down program:\n",
    "\n",
    "First, def a function, shut_down, that takes one argument s. Then, if the shut_down function receives an s equal to \"yes\", it should return \"Shutting down\" Alternatively, elif s is equal to \"no\", then the function should return \"Shutdown aborted\". Finally, if shut_down gets anything other than those inputs, the function should return \"Sorry\".\n"
   ]
  },
  {
   "cell_type": "code",
   "execution_count": 136,
   "metadata": {},
   "outputs": [
    {
     "name": "stdout",
     "output_type": "stream",
     "text": [
      "Do you want to shutdown the computer? yes\n"
     ]
    },
    {
     "data": {
      "text/plain": [
       "'Shutting down'"
      ]
     },
     "execution_count": 136,
     "metadata": {},
     "output_type": "execute_result"
    }
   ],
   "source": [
    "def shut_down(s):\n",
    "    if s==\"yes\":\n",
    "        return \"Shutting down\"\n",
    "    elif s==\"no\":\n",
    "        return \"Shutdown aborted\"\n",
    "    else:\n",
    "        return \"Sorry\"\n",
    "\n",
    "shut_down(input(\"Do you want to shutdown the computer? \"))"
   ]
  },
  {
   "cell_type": "code",
   "execution_count": null,
   "metadata": {},
   "outputs": [],
   "source": []
  }
 ],
 "metadata": {
  "kernelspec": {
   "display_name": "Python 3",
   "language": "python",
   "name": "python3"
  },
  "language_info": {
   "codemirror_mode": {
    "name": "ipython",
    "version": 3
   },
   "file_extension": ".py",
   "mimetype": "text/x-python",
   "name": "python",
   "nbconvert_exporter": "python",
   "pygments_lexer": "ipython3",
   "version": "3.7.3"
  }
 },
 "nbformat": 4,
 "nbformat_minor": 2
}
