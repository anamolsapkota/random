{
 "cells": [
  {
   "cell_type": "markdown",
   "metadata": {},
   "source": [
    "# Assignment 3"
   ]
  },
  {
   "cell_type": "markdown",
   "metadata": {},
   "source": [
    "### 1. Declare a string variable called x and assign it the value \"Hello.\" Print out the value of x."
   ]
  },
  {
   "cell_type": "code",
   "execution_count": 1,
   "metadata": {},
   "outputs": [
    {
     "name": "stdout",
     "output_type": "stream",
     "text": [
      "Hello\n"
     ]
    }
   ],
   "source": [
    "x = \"Hello\"\n",
    "print(x)"
   ]
  },
  {
   "cell_type": "markdown",
   "metadata": {},
   "source": [
    "### 2. Declare three variables (x, y, and z) as integers. Assign a value of 9 to x, assign a value of 7 to y, and then make z equal to the sum of those two variables. Print out the contents of the z variable."
   ]
  },
  {
   "cell_type": "code",
   "execution_count": 4,
   "metadata": {},
   "outputs": [
    {
     "name": "stdout",
     "output_type": "stream",
     "text": [
      "16\n"
     ]
    }
   ],
   "source": [
    "x = 9\n",
    "y = 7\n",
    "z = x + y\n",
    "print(z)"
   ]
  },
  {
   "cell_type": "markdown",
   "metadata": {},
   "source": [
    "### 3. Declare three variables, consisting of your first name, your last name, and a nickname. Write a program that prints out your first name, then your nickname in parenthesis, and then your last name. "
   ]
  },
  {
   "cell_type": "code",
   "execution_count": 7,
   "metadata": {},
   "outputs": [
    {
     "name": "stdout",
     "output_type": "stream",
     "text": [
      "Anamol (Echo) Sapkota\n"
     ]
    }
   ],
   "source": [
    "a = \"Anamol\"\n",
    "b = \"Sapkota\"\n",
    "c = \"Echo\"\n",
    "print(a, \"({})\".format(c), b)"
   ]
  },
  {
   "cell_type": "markdown",
   "metadata": {},
   "source": [
    "### 4. Create a loop that prints out all the numbers between 0 and 100, and only those numbers."
   ]
  },
  {
   "cell_type": "code",
   "execution_count": 9,
   "metadata": {},
   "outputs": [
    {
     "name": "stdout",
     "output_type": "stream",
     "text": [
      "1\n",
      "2\n",
      "3\n",
      "4\n",
      "5\n",
      "6\n",
      "7\n",
      "8\n",
      "9\n",
      "10\n",
      "11\n",
      "12\n",
      "13\n",
      "14\n",
      "15\n",
      "16\n",
      "17\n",
      "18\n",
      "19\n",
      "20\n",
      "21\n",
      "22\n",
      "23\n",
      "24\n",
      "25\n",
      "26\n",
      "27\n",
      "28\n",
      "29\n",
      "30\n",
      "31\n",
      "32\n",
      "33\n",
      "34\n",
      "35\n",
      "36\n",
      "37\n",
      "38\n",
      "39\n",
      "40\n",
      "41\n",
      "42\n",
      "43\n",
      "44\n",
      "45\n",
      "46\n",
      "47\n",
      "48\n",
      "49\n",
      "50\n",
      "51\n",
      "52\n",
      "53\n",
      "54\n",
      "55\n",
      "56\n",
      "57\n",
      "58\n",
      "59\n",
      "60\n",
      "61\n",
      "62\n",
      "63\n",
      "64\n",
      "65\n",
      "66\n",
      "67\n",
      "68\n",
      "69\n",
      "70\n",
      "71\n",
      "72\n",
      "73\n",
      "74\n",
      "75\n",
      "76\n",
      "77\n",
      "78\n",
      "79\n",
      "80\n",
      "81\n",
      "82\n",
      "83\n",
      "84\n",
      "85\n",
      "86\n",
      "87\n",
      "88\n",
      "89\n",
      "90\n",
      "91\n",
      "92\n",
      "93\n",
      "94\n",
      "95\n",
      "96\n",
      "97\n",
      "98\n",
      "99\n",
      "100\n"
     ]
    }
   ],
   "source": [
    "for i in range(1, 100+1):\n",
    "    print(i)"
   ]
  },
  {
   "cell_type": "markdown",
   "metadata": {},
   "source": [
    "### 5. Write a function that returns the maximum of two numbers."
   ]
  },
  {
   "cell_type": "code",
   "execution_count": 13,
   "metadata": {},
   "outputs": [
    {
     "name": "stdout",
     "output_type": "stream",
     "text": [
      "Enter 1st number: 5\n",
      "Enter 2nd number: 6\n",
      "Maximum of 5 and 6 is: 6\n"
     ]
    }
   ],
   "source": [
    "def maximum(x, y):\n",
    "    return max(x,y)\n",
    "\n",
    "a = input(\"Enter 1st number: \")\n",
    "b = input(\"Enter 2nd number: \")\n",
    "print(\"Maximum of {} and {} is: {}\".format(a, b, maximum(a,b)))"
   ]
  },
  {
   "cell_type": "markdown",
   "metadata": {},
   "source": [
    "### 6. Write a function called fizz_buzz that takes a number.\n",
    "    If the number is divisible by 3, it should return “Fizz”.\n",
    "    If it is divisible by 5, it should return “Buzz”.\n",
    "    If it is divisible by both 3 and 5, it should return “FizzBuzz”.\n",
    "    Otherwise, it should return the same number."
   ]
  },
  {
   "cell_type": "code",
   "execution_count": 28,
   "metadata": {},
   "outputs": [
    {
     "name": "stdout",
     "output_type": "stream",
     "text": [
      "Enter a number: 5\n",
      "Buzz\n"
     ]
    }
   ],
   "source": [
    "def fizz_buzz(x):\n",
    "    if x%3==0 and x%5==0:\n",
    "        return \"FizzBuzz\"\n",
    "    elif x%3==0:\n",
    "        return \"Fizz\"\n",
    "    elif x%5==0:\n",
    "        return \"Buzz\"\n",
    "    else:\n",
    "        return x\n",
    "try:\n",
    "    a = int(input(\"Enter a number: \"))\n",
    "    print(fizz_buzz(a))\n",
    "except:\n",
    "    print(\"Invalid input\")"
   ]
  },
  {
   "cell_type": "markdown",
   "metadata": {},
   "source": [
    "### 7. Write a program which will find all such numbers which are divisible by 7 but are not a multiple of 5, between 2000 and 3200 (both included). The numbers obtained should be printed in a comma-separated sequence on a single line.\n",
    "\n",
    "Hints: \n",
    "Consider use range(#begin, #end) method"
   ]
  },
  {
   "cell_type": "code",
   "execution_count": 31,
   "metadata": {},
   "outputs": [
    {
     "name": "stdout",
     "output_type": "stream",
     "text": [
      "2002, 2009, 2016, 2023, 2037, 2044, 2051, 2058, 2072, 2079, 2086, 2093, 2107, 2114, 2121, 2128, 2142, 2149, 2156, 2163, 2177, 2184, 2191, 2198, 2212, 2219, 2226, 2233, 2247, 2254, 2261, 2268, 2282, 2289, 2296, 2303, 2317, 2324, 2331, 2338, 2352, 2359, 2366, 2373, 2387, 2394, 2401, 2408, 2422, 2429, 2436, 2443, 2457, 2464, 2471, 2478, 2492, 2499, 2506, 2513, 2527, 2534, 2541, 2548, 2562, 2569, 2576, 2583, 2597, 2604, 2611, 2618, 2632, 2639, 2646, 2653, 2667, 2674, 2681, 2688, 2702, 2709, 2716, 2723, 2737, 2744, 2751, 2758, 2772, 2779, 2786, 2793, 2807, 2814, 2821, 2828, 2842, 2849, 2856, 2863, 2877, 2884, 2891, 2898, 2912, 2919, 2926, 2933, 2947, 2954, 2961, 2968, 2982, 2989, 2996, 3003, 3017, 3024, 3031, 3038, 3052, 3059, 3066, 3073, 3087, 3094, 3101, 3108, 3122, 3129, 3136, 3143, 3157, 3164, 3171, 3178, 3192, 3199, "
     ]
    }
   ],
   "source": [
    "for i in range(2000, 3201):\n",
    "    if i%7==0 and i%5!=0:\n",
    "        print(i, end=\", \")"
   ]
  },
  {
   "cell_type": "markdown",
   "metadata": {},
   "source": [
    "### 8. Write a program which can compute the factorial of a given numbers.\n",
    "The results should be printed in a comma-separated sequence on a single line.\n",
    "Suppose the following input is supplied to the program:\n",
    "8\n",
    "Then, the output should be:\n",
    "40320\n",
    "\n",
    "Hints:\n",
    "In case of input data being supplied to the question, it should be assumed to be a console input."
   ]
  },
  {
   "cell_type": "code",
   "execution_count": 32,
   "metadata": {},
   "outputs": [
    {
     "name": "stdout",
     "output_type": "stream",
     "text": [
      "Enter a number: 8\n",
      "40320\n"
     ]
    }
   ],
   "source": [
    "def facto(x):\n",
    "    if x == 0:\n",
    "        return 1\n",
    "    return x*facto(x-1)\n",
    "a = int(input(\"Enter a number: \"))\n",
    "print(facto(a))"
   ]
  },
  {
   "cell_type": "markdown",
   "metadata": {},
   "source": [
    "### 9. With a given integral number n, write a program to generate a dictionary that contains (i, i*i) such that is an integral number between 1 and n (both included). and then the program should print the dictionary.\n",
    "    Suppose the following input is supplied to the program: 8\n",
    "    Then, the output should be:\n",
    "    {1: 1, 2: 4, 3: 9, 4: 16, 5: 25, 6: 36, 7: 49, 8: 64}\n",
    "    \n",
    "    Hints:\n",
    "    In case of input data being supplied to the question, it should be assumed to be a console input.\n",
    "    Consider use dict()"
   ]
  },
  {
   "cell_type": "code",
   "execution_count": 35,
   "metadata": {},
   "outputs": [
    {
     "name": "stdout",
     "output_type": "stream",
     "text": [
      "Enter a number: 8\n",
      "{1: 1, 2: 4, 3: 9, 4: 16, 5: 25, 6: 36, 7: 49, 8: 64}\n"
     ]
    }
   ],
   "source": [
    "n = int(input(\"Enter a number: \"))\n",
    "d = {}\n",
    "for i in range(1,n+1):\n",
    "    d.update({i:i*i})\n",
    "print(d)"
   ]
  },
  {
   "cell_type": "markdown",
   "metadata": {},
   "source": [
    "### 10. Write a program which accepts a sequence of comma-separated numbers from console and generate a list and a tuple which contains every number.\n",
    "    Suppose the following input is supplied to the program:\n",
    "    34,67,55,33,12,98\n",
    "    Then, the output should be:\n",
    "    ['34', '67', '55', '33', '12', '98']\n",
    "    ('34', '67', '55', '33', '12', '98')\n",
    "\n",
    "    Hints:\n",
    "    In case of input data being supplied to the question, it should be assumed to be a console input.\n",
    "    tuple() method can convert list to tuple"
   ]
  },
  {
   "cell_type": "code",
   "execution_count": 2,
   "metadata": {},
   "outputs": [
    {
     "name": "stdout",
     "output_type": "stream",
     "text": [
      "Enter numbers separated by commas: 34, 67, 55, 33, 12, 98\n",
      "List :  ['34', ' 67', ' 55', ' 33', ' 12', ' 98']\n",
      "Tuple :  ('34', ' 67', ' 55', ' 33', ' 12', ' 98')\n"
     ]
    }
   ],
   "source": [
    "v = input(\"Enter numbers separated by commas: \")\n",
    "l = v.split(\",\")\n",
    "t = tuple(l)\n",
    "print('List : ',l)\n",
    "print('Tuple : ',t)"
   ]
  },
  {
   "cell_type": "markdown",
   "metadata": {},
   "source": [
    "### 11. Define a class which has at least two methods:\n",
    "    getString: to get a string from console input\n",
    "    printString: to print the string in upper case.\n",
    "    Also please include simple test function to test the class methods.\n",
    "\n",
    "    Hints:\n",
    "    Use __init__ method to construct some parameters"
   ]
  },
  {
   "cell_type": "code",
   "execution_count": 6,
   "metadata": {},
   "outputs": [
    {
     "name": "stdout",
     "output_type": "stream",
     "text": [
      "Enter a string: Anamol\n",
      "ANAMOL\n"
     ]
    }
   ],
   "source": [
    "class getprint():\n",
    "    def __init__(self):\n",
    "        self.s = \"\"\n",
    "\n",
    "    def getString(self):\n",
    "        self.s = input(\"Enter a string: \")\n",
    "\n",
    "    def printString(self):\n",
    "        print(self.s.upper())\n",
    "\n",
    "s = getprint()\n",
    "s.getString()\n",
    "s.printString()"
   ]
  },
  {
   "cell_type": "markdown",
   "metadata": {},
   "source": [
    "### 12. Write a program that accepts a comma separated sequence of words as input and prints the words in a comma-separated sequence after sorting them alphabetically.\n",
    "    Suppose the following input is supplied to the program:\n",
    "    without,hello,bag,world\n",
    "    Then, the output should be:\n",
    "    bag,hello,without,world\n",
    "\n",
    "    Hints:\n",
    "    In case of input data being supplied to the question, it should be assumed to be a console input."
   ]
  },
  {
   "cell_type": "code",
   "execution_count": 17,
   "metadata": {},
   "outputs": [
    {
     "name": "stdout",
     "output_type": "stream",
     "text": [
      "Input comma separated sequence of words: without,hello,bag,world\n",
      "bag, hello, without, world\n"
     ]
    }
   ],
   "source": [
    "x = input(\"Input comma separated sequence of words: \")\n",
    "words = [word for word in x.lower().split(\",\")]\n",
    "print(\", \".join(sorted(list(set(words)))))"
   ]
  },
  {
   "cell_type": "markdown",
   "metadata": {},
   "source": [
    "### 13. Write a program that accepts sequence of lines as input and prints the lines after making all characters in the sentence capitalized.\n",
    "    Suppose the following input is supplied to the program:\n",
    "    Hello world\n",
    "    Practice makes perfect\n",
    "    Then, the output should be:\n",
    "    HELLO WORLD\n",
    "    PRACTICE MAKES PERFECT\n",
    "\n",
    "    Hints:\n",
    "    In case of input data being supplied to the question, it should be assumed to be a console input."
   ]
  },
  {
   "cell_type": "code",
   "execution_count": 2,
   "metadata": {},
   "outputs": [
    {
     "name": "stdout",
     "output_type": "stream",
     "text": [
      "Enter line 1: Test\n",
      "Enter line 2: page\n",
      "Enter line 3: page\n",
      "Enter line 4: \n",
      "TEST\n",
      "PAGE\n",
      "PAGE\n"
     ]
    }
   ],
   "source": [
    "lines = []\n",
    "i = 1\n",
    "while True:\n",
    "    l = input(\"Enter line {}: \".format(i))\n",
    "    i = i + 1\n",
    "    if l:\n",
    "        lines.append(l.upper())\n",
    "    else:\n",
    "        break;\n",
    "\n",
    "for l in lines:\n",
    "    print(l)"
   ]
  },
  {
   "cell_type": "markdown",
   "metadata": {},
   "source": [
    "### 14. Write a program that accepts a sequence of whitespace separated words as input and prints the words after removing all duplicate words and sorting them alphanumerically.\n",
    "    Suppose the following input is supplied to the program:\n",
    "    hello world and practice makes perfect and hello world again\n",
    "    Then, the output should be:\n",
    "    again and hello makes perfect practice world\n",
    "\n",
    "    Hints:\n",
    "    In case of input data being supplied to the question, it should be assumed to be a console input.\n",
    "    We use set container to remove duplicated data automatically and then use sorted() to sort the data."
   ]
  },
  {
   "cell_type": "code",
   "execution_count": 12,
   "metadata": {},
   "outputs": [
    {
     "name": "stdout",
     "output_type": "stream",
     "text": [
      "Enter sequence of words separated by whitespace: hello world and practice makes perfect and hello world again\n",
      "again and hello makes perfect practice world\n"
     ]
    }
   ],
   "source": [
    "words = input(\"Enter sequence of words separated by whitespace: \").split(' ')\n",
    "sort = sorted(set(words))\n",
    "print(' '.join(sort))"
   ]
  },
  {
   "cell_type": "markdown",
   "metadata": {},
   "source": [
    "### 15. Write a program which accepts a sequence of comma separated 4 digit binary numbers as its input and then check whether they are divisible by 5 or not. The numbers that are divisible by 5 are to be printed in a comma separated sequence.\n",
    "    Example:\n",
    "    0100,0011,1010,1001\n",
    "    Then the output should be:\n",
    "    1010\n",
    "    Notes: Assume the data is input by console.\n",
    "\n",
    "    Hints:\n",
    "    In case of input data being supplied to the question, it should be assumed to be a console input."
   ]
  },
  {
   "cell_type": "code",
   "execution_count": 14,
   "metadata": {},
   "outputs": [
    {
     "name": "stdout",
     "output_type": "stream",
     "text": [
      "Enter an input: 0100,0011,1010,1001\n",
      "1010\n"
     ]
    }
   ],
   "source": [
    "items = []\n",
    "num = [x for x in input(\"Enter an input: \").split(',')]\n",
    "for p in num:\n",
    "    x = int(p, 2)\n",
    "    if not x%5:\n",
    "        items.append(p)\n",
    "print(','.join(items))"
   ]
  },
  {
   "cell_type": "markdown",
   "metadata": {},
   "source": [
    "### 16. Write a program that accepts a sentence and calculate the number of letters and digits.\n",
    "    Suppose the following input is supplied to the program:\n",
    "    hello world! 123\n",
    "    Then, the output should be:\n",
    "    LETTERS 10\n",
    "    DIGITS 3\n",
    "\n",
    "    Hints:\n",
    "    In case of input data being supplied to the question, it should be assumed to be a console input."
   ]
  },
  {
   "cell_type": "code",
   "execution_count": 15,
   "metadata": {},
   "outputs": [
    {
     "name": "stdout",
     "output_type": "stream",
     "text": [
      "Enter a string: 10Anam09MOL\n",
      "LETTERS 7\n",
      "DIGITS 4\n"
     ]
    }
   ],
   "source": [
    "s = input(\"Enter a string: \")\n",
    "d=0\n",
    "l=0\n",
    "for char in s:\n",
    "    if char.isdigit():\n",
    "        d=d+1\n",
    "    elif char.isalpha():\n",
    "        l=l+1\n",
    "    else:\n",
    "        pass\n",
    "print(\"LETTERS\", l)\n",
    "print(\"DIGITS\", d)"
   ]
  },
  {
   "cell_type": "markdown",
   "metadata": {},
   "source": [
    "### 17. Write a program that accepts a sentence and calculate the number of upper case letters and lower case letters. [12]\n",
    "    Suppose the following input is supplied to the program:\n",
    "    Hello world!\n",
    "    Then, the output should be:\n",
    "    UPPER CASE 1\n",
    "    LOWER CASE 9\n",
    "\n",
    "    Hints:\n",
    "    In case of input data being supplied to the question, it should be assumed to be a console input.\n"
   ]
  },
  {
   "cell_type": "code",
   "execution_count": 16,
   "metadata": {},
   "outputs": [
    {
     "name": "stdout",
     "output_type": "stream",
     "text": [
      "Enter a string: Hello world!\n",
      "UPPER CASE 1\n",
      "LOWER CASE 9\n"
     ]
    }
   ],
   "source": [
    "s = input(\"Enter a string: \")\n",
    "u=0\n",
    "l=0\n",
    "for char in s:\n",
    "    if char.isupper():\n",
    "        u=u+1\n",
    "    elif char.islower():\n",
    "        l=l+1\n",
    "    else:\n",
    "        pass\n",
    "print(\"UPPER CASE\", u)\n",
    "print(\"LOWER CASE\", l)"
   ]
  },
  {
   "cell_type": "markdown",
   "metadata": {},
   "source": [
    "### 18. Write a program that computes the value of a+aa+aaa+aaaa with a given digit as the value of a. [13]\n",
    "    Suppose the following input is supplied to the program:\n",
    "    9\n",
    "    Then, the output should be:\n",
    "    11106\n",
    "\n",
    "    Hints:\n",
    "    In case of input data being supplied to the question, it should be assumed to be a console input."
   ]
  },
  {
   "cell_type": "code",
   "execution_count": 25,
   "metadata": {},
   "outputs": [
    {
     "name": "stdout",
     "output_type": "stream",
     "text": [
      "Enter a number: 7\n",
      "8638\n"
     ]
    }
   ],
   "source": [
    "a = input(\"Enter a number: \")\n",
    "a1 = int(\"{}\".format(a))\n",
    "a2 = int(\"{}{}\".format(a,a))\n",
    "a3 = int(\"{}{}{}\".format(a,a,a))\n",
    "a4 = int(\"{}{}{}{}\".format(a,a,a,a))\n",
    "print(a1+a2+a3+a4)"
   ]
  },
  {
   "cell_type": "markdown",
   "metadata": {},
   "source": [
    "### 19. Write a program that computes the net amount of a bank account based a transaction log from console input. The transaction log format is shown as following: [14]\n",
    "    D 100\n",
    "    W 200\n",
    "\n",
    "    D means deposit while W means withdrawal.\n",
    "    Suppose the following input is supplied to the program:\n",
    "    D 300\n",
    "    D 300\n",
    "    W 200\n",
    "    D 100\n",
    "    Then, the output should be:\n",
    "    500\n",
    "\n",
    "    Hints:\n",
    "    In case of input data being supplied to the question, it should be assumed to be a console input."
   ]
  },
  {
   "cell_type": "code",
   "execution_count": 34,
   "metadata": {},
   "outputs": [
    {
     "name": "stdout",
     "output_type": "stream",
     "text": [
      "D 100\n",
      "D 200\n",
      "W 300\n",
      "\n",
      "0\n"
     ]
    }
   ],
   "source": [
    "net = 0\n",
    "\n",
    "while True:\n",
    "    line = input().split()\n",
    "    if not line:\n",
    "        break;\n",
    "\n",
    "    amt = int(line[1])\n",
    "    if line[0] == 'D':\n",
    "        net += amt\n",
    "    elif line[0] == 'W':\n",
    "        net -= amt\n",
    "\n",
    "print(net)"
   ]
  },
  {
   "cell_type": "markdown",
   "metadata": {},
   "source": [
    "### 20. A website requires the users to input username and password to register. Write a program to check the validity of password input by users.  [15]\n",
    "Following are the criteria for checking the password:\n",
    "1. At least 1 letter between [a-z]\n",
    "2. At least 1 number between [0-9]\n",
    "1. At least 1 letter between [A-Z]\n",
    "3. At least 1 character from [$#@]\n",
    "4. Minimum length of transaction password: 6\n",
    "5. Maximum length of transaction password: 12\n",
    "Your program should accept a sequence of comma separated passwords and will check them according to the above criteria. Passwords that match the criteria are to be printed, each separated by a comma.\n",
    "Example\n",
    "If the following passwords are given as input to the program:\n",
    "ABd1234@1,a F1#,2w3E*,2We3345\n",
    "Then, the output of the program should be:\n",
    "ABd1234@1\n",
    "\n",
    "Hints:\n",
    "In case of input data being supplied to the question, it should be assumed to be a console input.\n"
   ]
  },
  {
   "cell_type": "code",
   "execution_count": 42,
   "metadata": {},
   "outputs": [
    {
     "name": "stdout",
     "output_type": "stream",
     "text": [
      "Enter comma-separated passwords: ABd1234@1,a F1#,2w3E*,2We3345 \n",
      "ABd1234@1\n"
     ]
    }
   ],
   "source": [
    "special_str = \"$#@\"\n",
    "good = []\n",
    "\n",
    "pw = input(\"Enter comma-separated passwords: \").split(',')\n",
    "\n",
    "for p in pw:\n",
    "\n",
    "    lower = 0\n",
    "    upper = 0\n",
    "    digits = 0\n",
    "    special = 0\n",
    "\n",
    "    for char in p:\n",
    "\n",
    "        if char.islower():\n",
    "            lower += 1\n",
    "        elif char.isupper():\n",
    "            upper += 1\n",
    "        elif char.isdigit():\n",
    "            digits += 1\n",
    "        elif special_str.find(char) != -1:\n",
    "            special += 1\n",
    "\n",
    "    if lower >= 1 and upper >= 1 and digits >= 1 and special >= 1 and len(p) in range(6,13):\n",
    "        good.append(p)\n",
    "\n",
    "print(\",\".join(good))\n"
   ]
  },
  {
   "cell_type": "markdown",
   "metadata": {},
   "source": [
    "### 21. You are required to write a program to sort the (name, age, height) tuples by ascending order where name is string, age and height are numbers. The tuples are input by console. The sort criteria is: [16]\n",
    "    1: Sort based on name;\n",
    "    2: Then sort based on age;\n",
    "    3: Then sort by score.\n",
    "    The priority is that name > age > score.\n",
    "    If the following tuples are given as input to the program:\n",
    "    Tom,19,80\n",
    "    John,20,90\n",
    "    Jony,17,91\n",
    "    Jony,17,93\n",
    "    Json,21,85\n",
    "    Then, the output of the program should be:\n",
    "    [('John', '20', '90'), ('Jony', '17', '91'), ('Jony', '17', '93'), ('Json', '21', '85'), ('Tom', '19', '80')]\n",
    "\n",
    "    Hints:\n",
    "    In case of input data being supplied to the question, it should be assumed to be a console input.\n",
    "    We use itemgetter to enable multiple sort keys."
   ]
  },
  {
   "cell_type": "code",
   "execution_count": 5,
   "metadata": {},
   "outputs": [
    {
     "name": "stdout",
     "output_type": "stream",
     "text": [
      "[1] Enter name, age and score separated by comma: Tom,19,80\n",
      "[2] Enter name, age and score separated by comma: John,20,90\n",
      "[3] Enter name, age and score separated by comma: Jony,17,91\n",
      "[4] Enter name, age and score separated by comma: Jony,17,93\n",
      "[5] Enter name, age and score separated by comma: Json,21,85\n",
      "[6] Enter name, age and score separated by comma: \n",
      "[('John', '20', '90'), ('Jony', '17', '91'), ('Jony', '17', '93'), ('Json', '21', '85'), ('Tom', '19', '80')]\n"
     ]
    }
   ],
   "source": [
    "from operator import itemgetter\n",
    "\n",
    "info = []\n",
    "i = 1\n",
    "while True:\n",
    "    person_info = input(\"[{}] Enter name, age and score separated by comma: \".format(i))\n",
    "    i += 1\n",
    "    if person_info == \"\":\n",
    "        break\n",
    "    else:\n",
    "        info.append(tuple((person_info.split(\",\"))))\n",
    "\n",
    "info.sort(key =  itemgetter(0, 1, 2))       \n",
    "print(info)"
   ]
  },
  {
   "cell_type": "markdown",
   "metadata": {},
   "source": [
    "### 22. Write a method which can calculate square value of number [17]\n",
    "    Hints: Using the ** operator"
   ]
  },
  {
   "cell_type": "code",
   "execution_count": 11,
   "metadata": {},
   "outputs": [
    {
     "name": "stdout",
     "output_type": "stream",
     "text": [
      "Enter an integer: 8\n",
      "8 squared is 64\n"
     ]
    }
   ],
   "source": [
    "n = int(input(\"Enter an integer: \"))\n",
    "sq = n**2      # ** : Exponentiation: x ** y\n",
    "\n",
    "print(\"{} squared is {}\".format (n, sq))"
   ]
  },
  {
   "cell_type": "markdown",
   "metadata": {},
   "source": [
    "### 23. Define a class, which have a class parameter and have a same instance parameter. [18]\n",
    "\n",
    "    Hints:\n",
    "    Define a instance parameter, need add it in __init__ method\n",
    "    You can init a object with construct parameter or set the value later"
   ]
  },
  {
   "cell_type": "code",
   "execution_count": 6,
   "metadata": {},
   "outputs": [
    {
     "name": "stdout",
     "output_type": "stream",
     "text": [
      "The shark is swimming.\n",
      "The shark is being awesome.\n"
     ]
    }
   ],
   "source": [
    "class Shark:\n",
    "    def swim(self):\n",
    "        print(\"The shark is swimming.\")\n",
    "\n",
    "    def be_awesome(self):\n",
    "        print(\"The shark is being awesome.\")\n",
    "\n",
    "def main():\n",
    "    sammy = Shark()\n",
    "    sammy.swim()\n",
    "    sammy.be_awesome()\n",
    "\n",
    "if __name__ == \"__main__\":\n",
    "    main()"
   ]
  },
  {
   "cell_type": "markdown",
   "metadata": {},
   "source": [
    "### 24. Define a function which can compute the sum of two numbers. [19]\n",
    "\n",
    "    Hints:\n",
    "    Define a function with two numbers as arguments. You can compute the sum in the function and return the value."
   ]
  },
  {
   "cell_type": "code",
   "execution_count": 9,
   "metadata": {},
   "outputs": [
    {
     "name": "stdout",
     "output_type": "stream",
     "text": [
      "Enter 1st integer: 5\n",
      "Enter 2nd integer: 6\n",
      "Sum: 11\n"
     ]
    }
   ],
   "source": [
    "def add(x,y):\n",
    "    return x+y\n",
    "a = int(input(\"Enter 1st integer: \"))\n",
    "b = int(input(\"Enter 2nd integer: \"))\n",
    "print(\"Sum:\", add(a,b))"
   ]
  },
  {
   "cell_type": "markdown",
   "metadata": {},
   "source": [
    "### 25. Define a function that can convert a integer into a string and print it in console. [20, 21, 22]\n",
    "\n",
    "    Hints:\n",
    "    Use str() to convert a number to string."
   ]
  },
  {
   "cell_type": "code",
   "execution_count": 13,
   "metadata": {},
   "outputs": [
    {
     "name": "stdout",
     "output_type": "stream",
     "text": [
      "Enter an integer: 5\n",
      "String: 5\n"
     ]
    }
   ],
   "source": [
    "def printValue(n):\n",
    "    print(\"String:\", str(n))\n",
    "\n",
    "printValue(int(input(\"Enter an integer: \")))"
   ]
  },
  {
   "cell_type": "markdown",
   "metadata": {},
   "source": [
    "### 26. Define a function that can accept two strings as input and concatenate them and then print it in console. [23]\n",
    "    Hints: Use + to concatenate the strings"
   ]
  },
  {
   "cell_type": "code",
   "execution_count": 15,
   "metadata": {},
   "outputs": [
    {
     "name": "stdout",
     "output_type": "stream",
     "text": [
      "Enter 1st string: irkgnliskdgjblsk\n",
      "Enter 2nd string: gndksgnisufkngs\n",
      "irkgnliskdgjblskgndksgnisufkngs\n"
     ]
    }
   ],
   "source": [
    "def concat(s1,s2):\n",
    "    print(s1+s2)\n",
    "a = input(\"Enter 1st string: \")\n",
    "b = input(\"Enter 2nd string: \")\n",
    "concat(a,b)"
   ]
  },
  {
   "cell_type": "markdown",
   "metadata": {},
   "source": [
    "### 27. Define a function that can accept two strings as input and print the string with maximum length in console. If two strings have the same length, then the function should print al l strings line by line. [24]\n",
    "\n",
    "    Hints:\n",
    "\n",
    "    Use len() function to get the length of a string"
   ]
  },
  {
   "cell_type": "code",
   "execution_count": 21,
   "metadata": {},
   "outputs": [
    {
     "name": "stdout",
     "output_type": "stream",
     "text": [
      "Enter 1st string: yes\n",
      "Enter 2nd string: true\n",
      "true\n"
     ]
    }
   ],
   "source": [
    "def printValue(s1,s2):\n",
    "    len1 = len(s1)\n",
    "    len2 = len(s2)\n",
    "    if len1 > len2:\n",
    "        print(s1)\n",
    "    elif len2 > len1:\n",
    "        print(s2)\n",
    "    else:\n",
    "        print(s1)\n",
    "        print(s2)\n",
    "\n",
    "printValue(input(\"Enter 1st string: \"),input(\"Enter 2nd string: \"))"
   ]
  },
  {
   "cell_type": "markdown",
   "metadata": {},
   "source": [
    "### 28. Define a function that can accept an integer number as input and print the \"It is an even number\" if the number is even, otherwise print \"It is an odd number\". [25]\n",
    "\n",
    "    Hints: Use % operator to check if a number is even or odd."
   ]
  },
  {
   "cell_type": "code",
   "execution_count": 3,
   "metadata": {},
   "outputs": [
    {
     "name": "stdout",
     "output_type": "stream",
     "text": [
      "Enter an integer:6\n"
     ]
    },
    {
     "data": {
      "text/plain": [
       "'It is an even number'"
      ]
     },
     "execution_count": 3,
     "metadata": {},
     "output_type": "execute_result"
    }
   ],
   "source": [
    "def oddeven(x):\n",
    "    if x%2==0:\n",
    "        return \"It is an even number\"\n",
    "    else:\n",
    "        return \"It is a odd number\"\n",
    "\n",
    "oddeven(int(input(\"Enter an integer:\")))"
   ]
  },
  {
   "cell_type": "markdown",
   "metadata": {},
   "source": [
    "### 29. Define a function which can print a dictionary where the keys are numbers between 1 and 3 (both included) and the values are square of keys. [26]\n",
    "\n",
    "    Hints:\n",
    "\n",
    "    Use dict[key]=value pattern to put entry into a dictionary.\n",
    "    Use ** operator to get power of a number.\n"
   ]
  },
  {
   "cell_type": "code",
   "execution_count": 10,
   "metadata": {},
   "outputs": [
    {
     "name": "stdout",
     "output_type": "stream",
     "text": [
      "Dictionary: {1: 1, 2: 4, 3: 9}\n"
     ]
    }
   ],
   "source": [
    "def printdict(n):\n",
    "    d = {}\n",
    "    for i in range(1,n+1):\n",
    "        d[i] = i**2\n",
    "    print('Dictionary:', d)\n",
    "printdict(3)"
   ]
  },
  {
   "cell_type": "markdown",
   "metadata": {},
   "source": [
    "### 30. Define a function which can print a dictionary where the keys are numbers between 1 and 20 (both included) and the values are square of keys. [27]\n",
    "\n",
    "    Hints:\n",
    "    Use dict[key]=value pattern to put entry into a dictionary.\n",
    "    Use ** operator to get power of a number.\n",
    "    Use range() for loops."
   ]
  },
  {
   "cell_type": "code",
   "execution_count": 11,
   "metadata": {},
   "outputs": [
    {
     "name": "stdout",
     "output_type": "stream",
     "text": [
      "Dictionary: {1: 1, 2: 4, 3: 9, 4: 16, 5: 25, 6: 36, 7: 49, 8: 64, 9: 81, 10: 100, 11: 121, 12: 144, 13: 169, 14: 196, 15: 225, 16: 256, 17: 289, 18: 324, 19: 361, 20: 400}\n"
     ]
    }
   ],
   "source": [
    "def printdict(n):\n",
    "    d = {}\n",
    "    for i in range(1,n+1):\n",
    "        d[i] = i**2\n",
    "    print('Dictionary:', d)\n",
    "printdict(20)"
   ]
  },
  {
   "cell_type": "markdown",
   "metadata": {},
   "source": [
    "### 31. Define a function which can generate and print a list where the values are square of numbers between 1 and 20 (both included). [28]\n",
    "\n",
    "    Hints:\n",
    "\n",
    "    Use ** operator to get power of a number.\n",
    "    Use range() for loops.\n",
    "    Use list.append() to add values into a list."
   ]
  },
  {
   "cell_type": "code",
   "execution_count": 12,
   "metadata": {},
   "outputs": [
    {
     "name": "stdout",
     "output_type": "stream",
     "text": [
      "[1, 4, 9, 16, 25, 36, 49, 64, 81, 100, 121, 144, 169, 196, 225, 256, 289, 324, 361, 400]\n"
     ]
    }
   ],
   "source": [
    "def printl(x):\n",
    "    l = []\n",
    "    for i in range(1,x+1):\n",
    "        l.append(i**2)\n",
    "    print(l)\n",
    "printl(20)"
   ]
  },
  {
   "cell_type": "markdown",
   "metadata": {},
   "source": [
    "### 32. Define a function which can generate a list where the values are square of numbers between 1 and 20 (both included). Then the function needs to print all values except the first 5 elements in the list. [29]\n",
    "    Hints:\n",
    "    Use ** operator to get power of a number.\n",
    "    Use range() for loops.\n",
    "    Use list.append() to add values into a list.\n",
    "    Use [n1:n2] to slice a list"
   ]
  },
  {
   "cell_type": "code",
   "execution_count": 22,
   "metadata": {},
   "outputs": [
    {
     "name": "stdout",
     "output_type": "stream",
     "text": [
      "List except first 5 elements: [36, 49, 64, 81, 100, 121, 144, 169, 196, 225, 256, 289, 324, 361, 400]\n"
     ]
    }
   ],
   "source": [
    "def printl(x):\n",
    "    l = []\n",
    "    for i in range(1,x+1):\n",
    "        l.append(i**2)\n",
    "    print('List except first 5 elements:', l[5:])\n",
    "printl(20)"
   ]
  },
  {
   "cell_type": "markdown",
   "metadata": {},
   "source": [
    "### 33. Define a function which can generate and print a tuple where the value are square of numbers between 1 and 20 (both included). [30]\n",
    "    Hints:\n",
    "    Use ** operator to get power of a number.\n",
    "    Use range() for loops.\n",
    "    Use list.append() to add values into a list.\n",
    "    Use tuple() to get a tuple from a list."
   ]
  },
  {
   "cell_type": "code",
   "execution_count": 21,
   "metadata": {},
   "outputs": [
    {
     "name": "stdout",
     "output_type": "stream",
     "text": [
      "Tuple: (1, 4, 9, 16, 25, 36, 49, 64, 81, 100, 121, 144, 169, 196, 225, 256, 289, 324, 361, 400)\n"
     ]
    }
   ],
   "source": [
    "def printt(x):\n",
    "    l = []\n",
    "    for i in range(1,x+1):\n",
    "        l.append(i**2)\n",
    "    t = tuple(l)\n",
    "    print('Tuple:', t)\n",
    "printt(20)"
   ]
  },
  {
   "cell_type": "markdown",
   "metadata": {},
   "source": [
    "### 34. Write a program which accepts a string as input to print \"Yes\" if the string is \"yes\" or \"YES\" or \"Yes\", otherwise print \"No\".  [31]\n",
    "    Hints:\n",
    "    Use if statement to judge condition."
   ]
  },
  {
   "cell_type": "code",
   "execution_count": 27,
   "metadata": {},
   "outputs": [
    {
     "name": "stdout",
     "output_type": "stream",
     "text": [
      "Do you want to run the program? y\n",
      "Yes\n"
     ]
    }
   ],
   "source": [
    "s = input(\"Do you want to run the program? \")\n",
    "\n",
    "if s=='yes' or s=='Yes' or s=='YES' or s=='y':\n",
    "    print(\"Yes\")\n",
    "else:\n",
    "    print(\"No\")"
   ]
  },
  {
   "cell_type": "markdown",
   "metadata": {},
   "source": [
    "### 35. Write a program which can filter even numbers in a list by using filter function. The list is: [1,2,3,4,5,6,7,8,9,10]. [32]\n",
    "    Hints:\n",
    "    Use filter() to filter some elements in a list.\n",
    "    Use lambda to define anonymous functions."
   ]
  },
  {
   "cell_type": "code",
   "execution_count": 1,
   "metadata": {},
   "outputs": [
    {
     "name": "stdout",
     "output_type": "stream",
     "text": [
      "Even: [2, 4, 6, 8, 10]\n"
     ]
    }
   ],
   "source": [
    "l = [1,2,3,4,5,6,7,8,9,10]\n",
    "even = list(filter(lambda x: x%2==0, l))\n",
    "print('Even:', even)"
   ]
  },
  {
   "cell_type": "markdown",
   "metadata": {},
   "source": [
    "### 36. Write a program which can map() and filter() to make a list whose elements are square of even number in [1,2,3,4,5,6,7,8,9,10]. [33]\n",
    "\n",
    "    Hints:\n",
    "\n",
    "    Use map() to generate a list.\n",
    "    Use filter() to filter elements of a list.\n",
    "    Use lambda to define anonymous functions."
   ]
  },
  {
   "cell_type": "code",
   "execution_count": 4,
   "metadata": {},
   "outputs": [
    {
     "name": "stdout",
     "output_type": "stream",
     "text": [
      "Square of even numbers in the list: [4, 16, 36, 64, 100]\n"
     ]
    }
   ],
   "source": [
    "li = [1,2,3,4,5,6,7,8,9,10]\n",
    "evensq = list(map(lambda x: x**2, filter(lambda x: x%2==0, li)))\n",
    "print('Square of even numbers in the list:', evensq)"
   ]
  },
  {
   "cell_type": "markdown",
   "metadata": {},
   "source": [
    "### 37. Write a program which can filter() to make a list whose elements are even number between 1 and 20 (both included). [34]\n",
    "    Hints:\n",
    "    Use filter() to filter elements of a list.\n",
    "    Use lambda to define anonymous functions."
   ]
  },
  {
   "cell_type": "code",
   "execution_count": 11,
   "metadata": {},
   "outputs": [
    {
     "name": "stdout",
     "output_type": "stream",
     "text": [
      "Even list: [2, 4, 6, 8, 10, 12, 14, 16, 18, 20]\n"
     ]
    }
   ],
   "source": [
    "evenli = list(filter(lambda x: x%2==0, range(1,21)))\n",
    "print('Even list:', evenli)"
   ]
  },
  {
   "cell_type": "markdown",
   "metadata": {},
   "source": [
    "### 38. Define a class named Nepali which has a static method called printNationality. [35]\n",
    "\n",
    "    Hints:\n",
    "\n",
    "    Use @staticmethod decorator to define class static method."
   ]
  },
  {
   "cell_type": "code",
   "execution_count": 18,
   "metadata": {},
   "outputs": [
    {
     "name": "stdout",
     "output_type": "stream",
     "text": [
      "Nepali\n"
     ]
    }
   ],
   "source": [
    "class Nepali(object):\n",
    "    @staticmethod\n",
    "    def printNationality():\n",
    "        print(\"Nepali\")\n",
    "\n",
    "obj = Nepali()\n",
    "obj.printNationality()"
   ]
  },
  {
   "cell_type": "markdown",
   "metadata": {},
   "source": [
    "### 39. Define a class named Circle which can be constructed by a radius. The Circle class has a method which can compute the area.  [36]\n",
    "    Hints:\n",
    "    Use def methodName(self) to define a method."
   ]
  },
  {
   "cell_type": "code",
   "execution_count": 25,
   "metadata": {},
   "outputs": [
    {
     "name": "stdout",
     "output_type": "stream",
     "text": [
      "Area: 78.5\n"
     ]
    }
   ],
   "source": [
    "class Circle(object):\n",
    "    def __init__(self, r):\n",
    "        self.r = r\n",
    "        \n",
    "    def area(self):\n",
    "        print('Area:', self.r**2*3.14)\n",
    "\n",
    "c = Circle(5)\n",
    "c.area()"
   ]
  },
  {
   "cell_type": "markdown",
   "metadata": {},
   "source": [
    "### 40. Define a class named Shape and its subclass Square. The Square class has an init function which takes a length as argument. Both classes have a area function which can print the area of the shape where Shape's area is 0 by default. [37]\n",
    "    Hints:\n",
    "    To override a method in super class, we can define a method with the same name in the super class."
   ]
  },
  {
   "cell_type": "code",
   "execution_count": 5,
   "metadata": {},
   "outputs": [
    {
     "name": "stdout",
     "output_type": "stream",
     "text": [
      "Enter the length of square: 5\n",
      "Area: 25\n"
     ]
    }
   ],
   "source": [
    "class Shape(object):\n",
    "    def __init__(self):\n",
    "        pass\n",
    "\n",
    "    def area(self):\n",
    "        return 0\n",
    "\n",
    "class Square(Shape):\n",
    "    def __init__(self, l):\n",
    "        Shape.__init__(self)\n",
    "        self.length = l\n",
    "\n",
    "    def area(self):\n",
    "        return self.length*self.length\n",
    "\n",
    "sq = Square(int(input(\"Enter the length of square: \")))\n",
    "print(\"Area:\", sq.area())"
   ]
  },
  {
   "cell_type": "markdown",
   "metadata": {},
   "source": [
    "### 41. Please raise a RuntimeError exception. [38]\n",
    "\n",
    "    Hints:\n",
    "\n",
    "    Use raise() to raise an exception."
   ]
  },
  {
   "cell_type": "code",
   "execution_count": 7,
   "metadata": {},
   "outputs": [
    {
     "ename": "RuntimeError",
     "evalue": "Error",
     "output_type": "error",
     "traceback": [
      "\u001b[0;31m---------------------------------------------------------------------------\u001b[0m",
      "\u001b[0;31mRuntimeError\u001b[0m                              Traceback (most recent call last)",
      "\u001b[0;32m<ipython-input-7-d557b57be1a9>\u001b[0m in \u001b[0;36m<module>\u001b[0;34m()\u001b[0m\n\u001b[0;32m----> 1\u001b[0;31m \u001b[0;32mraise\u001b[0m \u001b[0mRuntimeError\u001b[0m\u001b[0;34m(\u001b[0m\u001b[0;34m'Error'\u001b[0m\u001b[0;34m)\u001b[0m\u001b[0;34m\u001b[0m\u001b[0;34m\u001b[0m\u001b[0m\n\u001b[0m",
      "\u001b[0;31mRuntimeError\u001b[0m: Error"
     ]
    }
   ],
   "source": [
    "raise RuntimeError('Error')"
   ]
  },
  {
   "cell_type": "markdown",
   "metadata": {},
   "source": [
    "### 42. Write a function to compute 5/0 and use try/except to catch the exceptions. [39]\n",
    "    Hints:\n",
    "    Use try/except to catch exceptions."
   ]
  },
  {
   "cell_type": "code",
   "execution_count": 14,
   "metadata": {},
   "outputs": [
    {
     "name": "stdout",
     "output_type": "stream",
     "text": [
      "Error\n"
     ]
    }
   ],
   "source": [
    "def catch(x):\n",
    "    a = x/0\n",
    "    print(a)\n",
    "    \n",
    "try:\n",
    "    catch(5)\n",
    "except:\n",
    "    print(\"Error\")"
   ]
  },
  {
   "cell_type": "markdown",
   "metadata": {},
   "source": [
    "### 43. Assuming that we have some email addresses in the \"username@companyname.com\" format, please write program to print the user name of a given email address. Both user names and company names are composed of letters only. [40]\n",
    "\n",
    "    Example:\n",
    "    If the following email address is given as input to the program:\n",
    "\n",
    "    john@google.com\n",
    "\n",
    "    Then, the output of the program should be:\n",
    "\n",
    "    john\n",
    "\n",
    "    In case of input data being supplied to the question, it should be assumed to be a console input.\n",
    "\n",
    "    Hints:\n",
    "\n",
    "    Use \\w to match letters.\n"
   ]
  },
  {
   "cell_type": "code",
   "execution_count": 24,
   "metadata": {},
   "outputs": [
    {
     "name": "stdout",
     "output_type": "stream",
     "text": [
      "Enter an email: anamol@gmail.com\n",
      "anamol\n"
     ]
    }
   ],
   "source": [
    "import re\n",
    "email = input(\"Enter an email: \")\n",
    "reg = \"(\\w+)@(\\w+)(\\.)+(com)\"\n",
    "check = re.match(reg,email)\n",
    "print(check.group(1))"
   ]
  },
  {
   "cell_type": "markdown",
   "metadata": {},
   "source": [
    "### 44. Assuming that we have some email addresses in the \"username@companyname.com\" format, please write program to print the company name of a given email address. Both user names and company names are composed of letters only. [41]\n",
    "\n",
    "    Example:\n",
    "    If the following email address is given as input to the program:\n",
    "\n",
    "    john@google.com\n",
    "\n",
    "    Then, the output of the program should be:\n",
    "\n",
    "    google\n",
    "\n",
    "    In case of input data being supplied to the question, it should be assumed to be a console input.\n",
    "\n",
    "    Hints:\n",
    "\n",
    "    Use \\w to match letters.\n"
   ]
  },
  {
   "cell_type": "code",
   "execution_count": 25,
   "metadata": {},
   "outputs": [
    {
     "name": "stdout",
     "output_type": "stream",
     "text": [
      "Enter an email: anamol@gamil.com\n",
      "gamil\n"
     ]
    }
   ],
   "source": [
    "import re\n",
    "email = input(\"Enter an email: \")\n",
    "reg = \"(\\w+)@(\\w+)(\\.)+(com)\"\n",
    "check = re.match(reg,email)\n",
    "print(check.group(2))"
   ]
  },
  {
   "cell_type": "markdown",
   "metadata": {},
   "source": [
    "### 45. Write a program which accepts a sequence of words separated by whitespace as input to print the words composed of digits only. [42]\n",
    "\n",
    "    Example:\n",
    "    If the following words is given as input to the program:\n",
    "\n",
    "    2 cats and 3 dogs.\n",
    "\n",
    "    Then, the output of the program should be:\n",
    "\n",
    "    ['2', '3']\n",
    "\n",
    "    In case of input data being supplied to the question, it should be assumed to be a console input.\n",
    "\n",
    "    Hints:\n",
    "\n",
    "    Use re.findall() to find all substring using regex."
   ]
  },
  {
   "cell_type": "code",
   "execution_count": 35,
   "metadata": {},
   "outputs": [
    {
     "name": "stdout",
     "output_type": "stream",
     "text": [
      "Enter a string: 45 cats 4 mouse\n",
      "['45', '4']\n"
     ]
    }
   ],
   "source": [
    "import re\n",
    "s = input(\"Enter a string: \")\n",
    "print(re.findall(\"\\d+\",s))"
   ]
  },
  {
   "cell_type": "markdown",
   "metadata": {},
   "source": [
    "### 46. Write a program to compute 1/2+2/3+3/4+...+n/n+1 with a given n input by console (n>0). [43]\n",
    "\n",
    "    Example:\n",
    "    If the following n is given as input to the program:\n",
    "    5\n",
    "\n",
    "    Then, the output of the program should be:\n",
    "    3.55\n",
    "\n",
    "    In case of input data being supplied to the question, it should be assumed to be a console input.\n",
    "    Hints:\n",
    "    Use float() to convert an integer to a float"
   ]
  },
  {
   "cell_type": "code",
   "execution_count": 40,
   "metadata": {},
   "outputs": [
    {
     "name": "stdout",
     "output_type": "stream",
     "text": [
      "Enter an integer: 5\n",
      "3.55\n"
     ]
    }
   ],
   "source": [
    "n = int(input(\"Enter an integer: \"))\n",
    "sum = 0.0\n",
    "for i in range(1,n+1):\n",
    "    sum += round(float(float(i)/float(i+1)),2)\n",
    "print(sum)"
   ]
  },
  {
   "cell_type": "code",
   "execution_count": null,
   "metadata": {},
   "outputs": [],
   "source": []
  }
 ],
 "metadata": {
  "kernelspec": {
   "display_name": "Python 3",
   "language": "python",
   "name": "python3"
  }
 },
 "nbformat": 4,
 "nbformat_minor": 2
}
