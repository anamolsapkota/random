{
 "cells": [
  {
   "cell_type": "markdown",
   "metadata": {},
   "source": [
    "\n",
    "   \n",
    "# 1. WAP to display the multiplication table.\n",
    "    Hint:\n",
    "       2*1=2\n",
    "       2*2=4\n",
    "       2*3=6\n",
    "       ....\n"
   ]
  },
  {
   "cell_type": "code",
   "execution_count": 6,
   "metadata": {},
   "outputs": [
    {
     "name": "stdout",
     "output_type": "stream",
     "text": [
      "Enter the number:5\n",
      "5 * 1 = 5\n",
      "5 * 2 = 10\n",
      "5 * 3 = 15\n",
      "5 * 4 = 20\n",
      "5 * 5 = 25\n",
      "5 * 6 = 30\n",
      "5 * 7 = 35\n",
      "5 * 8 = 40\n",
      "5 * 9 = 45\n",
      "5 * 10 = 50\n"
     ]
    }
   ],
   "source": [
    "n=int(input(\"Enter the number:\"))\n",
    "for i in range(1,11):\n",
    "    print(\"{} * {} = {}\".format(n,i,n*i))\n",
    "    "
   ]
  },
  {
   "cell_type": "markdown",
   "metadata": {},
   "source": [
    "# 2. WAP to swap two variables.\n"
   ]
  },
  {
   "cell_type": "code",
   "execution_count": 9,
   "metadata": {},
   "outputs": [
    {
     "name": "stdout",
     "output_type": "stream",
     "text": [
      "2 5\n"
     ]
    }
   ],
   "source": [
    "a=5\n",
    "b=2\n",
    "a, b = b, a\n",
    "print(a, b)"
   ]
  },
  {
   "cell_type": "markdown",
   "metadata": {},
   "source": [
    "# 3. WAP to take input from console and check prime number."
   ]
  },
  {
   "cell_type": "code",
   "execution_count": 12,
   "metadata": {},
   "outputs": [
    {
     "name": "stdout",
     "output_type": "stream",
     "text": [
      "Enter a number:5\n",
      "Prime number\n"
     ]
    }
   ],
   "source": [
    "num=int(input(\"Enter a number:\"))\n",
    "counter=0\n",
    "for i in range(1,num+1):\n",
    "    if num%i==0:\n",
    "        counter +=1\n",
    "if counter==2:\n",
    "    print(\"Prime number\")\n",
    "else:\n",
    "    print(\"Not a prime number\")\n",
    "        "
   ]
  },
  {
   "cell_type": "markdown",
   "metadata": {},
   "source": [
    "# 4. A list of numbers, iterate it and print only those numbers which are divisible of 5.\n"
   ]
  },
  {
   "cell_type": "code",
   "execution_count": 18,
   "metadata": {},
   "outputs": [
    {
     "name": "stdout",
     "output_type": "stream",
     "text": [
      "5, 15, 10, 20, "
     ]
    }
   ],
   "source": [
    "num=[1, 2, 3, 4, 5, 15, 10,20]\n",
    "for i in num:\n",
    "    if i%5==0:\n",
    "        print(i, end=', ')"
   ]
  },
  {
   "cell_type": "markdown",
   "metadata": {},
   "source": [
    "# 5. Print the following pattern.\n",
    "\t1\n",
    "\t2 2\n",
    "\t3 3 3\n",
    "\t4 4 4 4\n",
    "\t5 5 5 5 5\n"
   ]
  },
  {
   "cell_type": "code",
   "execution_count": 29,
   "metadata": {},
   "outputs": [
    {
     "name": "stdout",
     "output_type": "stream",
     "text": [
      "Enter the number:5\n",
      "1 \n",
      "2 2 \n",
      "3 3 3 \n",
      "4 4 4 4 \n",
      "5 5 5 5 5 \n"
     ]
    }
   ],
   "source": [
    "num= int(input(\"Enter the number:\"))\n",
    "for i in range(1, num+1):\n",
    "    for j in range(i):\n",
    "        print(i, end=' ')\n",
    "    print()"
   ]
  },
  {
   "cell_type": "markdown",
   "metadata": {},
   "source": [
    "# 6. Reverse a given number and return true if it is the same as the original number.\n"
   ]
  },
  {
   "cell_type": "code",
   "execution_count": 41,
   "metadata": {},
   "outputs": [
    {
     "name": "stdout",
     "output_type": "stream",
     "text": [
      "Enter the number:505\n",
      "True\n"
     ]
    }
   ],
   "source": [
    "num=int(input(\"Enter the number:\"))\n",
    "if int(str(num)[:: -1])==num:\n",
    "     print(True)\n",
    "else:\n",
    "    print(False)"
   ]
  },
  {
   "cell_type": "markdown",
   "metadata": {},
   "source": [
    "# 7. Write a function called `divisible_number` that takes a number.\n",
    "   a.If the number is divisible by 3, it should return \"THREE\".\n",
    "   b.If it is divisible by 5, it should return \"FIVE\".\n",
    "   c.If it is divisible by both 3 and 5, it should return \"THREE-FIVE”.\n",
    "   d.Otherwise, it should return the same number.\n"
   ]
  },
  {
   "cell_type": "code",
   "execution_count": 53,
   "metadata": {},
   "outputs": [
    {
     "name": "stdout",
     "output_type": "stream",
     "text": [
      "Enter a number:15\n"
     ]
    },
    {
     "data": {
      "text/plain": [
       "'THREE-FIVE'"
      ]
     },
     "execution_count": 53,
     "metadata": {},
     "output_type": "execute_result"
    }
   ],
   "source": [
    "number=int(input(\"Enter a number:\"))\n",
    "def divisible_number(n):\n",
    "    if n%3==0 and n%5==0:\n",
    "        return \"THREE-FIVE\"\n",
    "    elif n%5==0:\n",
    "        return \"Five\"\n",
    "    elif n%3==0:\n",
    "        return \"Three\"\n",
    "    else:\n",
    "        return number\n",
    "divisible_number(number)"
   ]
  },
  {
   "cell_type": "markdown",
   "metadata": {},
   "source": [
    "# 8. What is the result of 10 ** 3?\n"
   ]
  },
  {
   "cell_type": "code",
   "execution_count": 55,
   "metadata": {},
   "outputs": [
    {
     "name": "stdout",
     "output_type": "stream",
     "text": [
      "1000\n"
     ]
    }
   ],
   "source": [
    "x=10\n",
    "y=3\n",
    "z=x**y\n",
    "print(z)"
   ]
  },
  {
   "cell_type": "markdown",
   "metadata": {},
   "source": [
    "# 9. What is the difference between a parameter and an argument?"
   ]
  },
  {
   "cell_type": "markdown",
   "metadata": {},
   "source": [
    "Parameter is a variable defined by a method that receives a value when the method is called.\n",
    "\n",
    "\n",
    "Argument is a value that is passed to a method when it is invoked.\n"
   ]
  },
  {
   "cell_type": "markdown",
   "metadata": {},
   "source": [
    "# 10.Given an input string Count all lower case, upper case, digits, and special symbols.\n",
    "   Hint:\n",
    "   s1 = \"P@#yn26at^&i5ve\"\n",
    "   Chars = 8, Digits = 3, Symbol = 4\n"
   ]
  },
  {
   "cell_type": "code",
   "execution_count": 68,
   "metadata": {},
   "outputs": [
    {
     "name": "stdout",
     "output_type": "stream",
     "text": [
      "Enter the number:P@#yn26at^&i5ve\n",
      "8 3 4\n"
     ]
    }
   ],
   "source": [
    "n = str(input(\"Enter the number:\"))\n",
    "num = n.strip()\n",
    "char=0\n",
    "digit=0\n",
    "symbol=0\n",
    "for i in num:\n",
    "    if i.isalpha():\n",
    "        char +=1\n",
    "    elif i.isdigit():\n",
    "        digit += 1\n",
    "    else:\n",
    "        symbol +=1\n",
    "print(char, digit, symbol)\n",
    "        "
   ]
  },
  {
   "cell_type": "code",
   "execution_count": null,
   "metadata": {},
   "outputs": [],
   "source": []
  }
 ],
 "metadata": {
  "kernelspec": {
   "display_name": "Python 3",
   "language": "python",
   "name": "python3"
  },
  "language_info": {
   "codemirror_mode": {
    "name": "ipython",
    "version": 3
   },
   "file_extension": ".py",
   "mimetype": "text/x-python",
   "name": "python",
   "nbconvert_exporter": "python",
   "pygments_lexer": "ipython3",
   "version": "3.6.7"
  }
 },
 "nbformat": 4,
 "nbformat_minor": 2
}
