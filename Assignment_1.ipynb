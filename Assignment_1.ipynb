{
 "cells": [
  {
   "cell_type": "markdown",
   "metadata": {},
   "source": [
    "# String"
   ]
  },
  {
   "cell_type": "markdown",
   "metadata": {},
   "source": [
    "### 1. Write a Python program to calculate the length of a string."
   ]
  },
  {
   "cell_type": "code",
   "execution_count": 10,
   "metadata": {},
   "outputs": [
    {
     "name": "stdout",
     "output_type": "stream",
     "text": [
      "Enter a string: \n",
      "Anamol\n"
     ]
    },
    {
     "data": {
      "text/plain": [
       "6"
      ]
     },
     "execution_count": 10,
     "metadata": {},
     "output_type": "execute_result"
    }
   ],
   "source": [
    "str = input(\"Enter a string: \\n\")\n",
    "len(str)"
   ]
  },
  {
   "cell_type": "markdown",
   "metadata": {},
   "source": [
    "### 2. Write a Python program to count the number of characters (character frequency) in a string.\n",
    "\tSample String : google.com'\n",
    "\tExpected Result : {'o': 3, 'g': 2, '.': 1, 'e': 1, 'l': 1, 'm': 1, 'c': 1}\n"
   ]
  },
  {
   "cell_type": "code",
   "execution_count": 11,
   "metadata": {},
   "outputs": [
    {
     "name": "stdout",
     "output_type": "stream",
     "text": [
      "Enter a string: \n",
      "Anamol\n",
      "{'A': 1, 'n': 1, 'a': 1, 'm': 1, 'o': 1, 'l': 1}\n"
     ]
    }
   ],
   "source": [
    "def char_frequency(str1):\n",
    "    dict = {}\n",
    "    for n in str1:\n",
    "        keys = dict.keys()\n",
    "        if n in keys:\n",
    "            dict[n] += 1\n",
    "        else:\n",
    "            dict[n] = 1\n",
    "    return dict\n",
    "print(char_frequency(input(\"Enter a string: \\n\")))"
   ]
  },
  {
   "cell_type": "markdown",
   "metadata": {},
   "source": [
    "### 3. Write a Python program to get a string from a given string where all occurrences of its first char have been changed to 'dollar sign', except the first char itself.\n",
    "\tSample String : 'restart'\n",
    "\tExpected Result : 'resta$t'"
   ]
  },
  {
   "cell_type": "code",
   "execution_count": 11,
   "metadata": {},
   "outputs": [
    {
     "name": "stdout",
     "output_type": "stream",
     "text": [
      "Enter a string:anamol\n",
      "Changed string: an$mol\n"
     ]
    }
   ],
   "source": [
    "def change_char(str1):\n",
    "  char = str1[0]\n",
    "  str1 = str1.replace(char, '$')\n",
    "  str1 = char + str1[1:]\n",
    "\n",
    "  return str1\n",
    "ch = input(\"Enter a string:\")\n",
    "print(\"Changed string: \" + change_char(ch))"
   ]
  },
  {
   "cell_type": "markdown",
   "metadata": {},
   "source": [
    "### 4. Write a Python program to add 'ing' at the end of a given string (length should be at least 3). If the given string already ends with 'ing' then add 'ly' instead. If the string length of the given string is less than 3, leave it unchanged.\n",
    "\tSample String : 'abc'\n",
    "\tExpected Result : 'abcing' \n",
    "\tSample String : 'string'\n",
    "\tExpected Result : 'stringly'"
   ]
  },
  {
   "cell_type": "code",
   "execution_count": 12,
   "metadata": {},
   "outputs": [
    {
     "name": "stdout",
     "output_type": "stream",
     "text": [
      "ab\n",
      "abcing\n",
      "stringly\n"
     ]
    }
   ],
   "source": [
    "def add_string(str1):\n",
    "  length = len(str1)\n",
    "\n",
    "  if length > 2:\n",
    "    if str1[-3:] == 'ing':\n",
    "      str1 += 'ly'\n",
    "    else:\n",
    "      str1 += 'ing'\n",
    "\n",
    "  return str1\n",
    "print(add_string('ab'))\n",
    "print(add_string('abc'))\n",
    "print(add_string('string'))"
   ]
  },
  {
   "cell_type": "markdown",
   "metadata": {},
   "source": [
    "### 5. Write a Python function to create the HTML string with tags around the word(s).\n",
    "\tSample function and result : \n",
    "\tadd_tags('i', 'Python') -> '<i>Python</i>'\n",
    "\tadd_tags('b', 'Python Tutorial') -> '<b>Python Tutorial </b>'"
   ]
  },
  {
   "cell_type": "code",
   "execution_count": 14,
   "metadata": {},
   "outputs": [
    {
     "name": "stdout",
     "output_type": "stream",
     "text": [
      "<i>Hello</i>\n",
      "<b>Hello World!</b>\n"
     ]
    }
   ],
   "source": [
    "def add_tags(tag, word):\n",
    "    return \"<%s>%s</%s>\" % (tag, word, tag)\n",
    "print(add_tags('i', 'Hello'))\n",
    "print(add_tags('b', 'Hello World!'))"
   ]
  },
  {
   "cell_type": "markdown",
   "metadata": {},
   "source": [
    "### 6. Write a Python program to count repeated characters in a string.\n",
    "\tSample string: 'thequickbrownfoxjumpsoverthelazydog'\n",
    "\tExpected output :\n",
    "\to 4\n",
    "\te 3\n",
    "\tu 2\n",
    "\th 2\n",
    "\tr 2\n",
    "\tt 2"
   ]
  },
  {
   "cell_type": "code",
   "execution_count": 14,
   "metadata": {},
   "outputs": [
    {
     "name": "stdout",
     "output_type": "stream",
     "text": [
      "Enter any string: thequickbrownfoxjumpsoverthelazydog\n",
      "t  2\n",
      "h  2\n",
      "e  3\n",
      "u  2\n",
      "r  2\n",
      "o  4\n"
     ]
    }
   ],
   "source": [
    "ask = str(input('Enter any string: '))\n",
    "\n",
    "dict = {}\n",
    "\n",
    "for i in ask:\n",
    "    dict[i] = ask.count(i)\n",
    "\n",
    "for k,v in dict.items():\n",
    "    if v != 1:\n",
    "        print (k,'',v)"
   ]
  },
  {
   "cell_type": "markdown",
   "metadata": {},
   "source": [
    "# List"
   ]
  },
  {
   "cell_type": "markdown",
   "metadata": {},
   "source": [
    "### 1. Write a Python program to sum all the items in a list."
   ]
  },
  {
   "cell_type": "code",
   "execution_count": 71,
   "metadata": {},
   "outputs": [
    {
     "name": "stdout",
     "output_type": "stream",
     "text": [
      "Sum:  15\n"
     ]
    }
   ],
   "source": [
    "mylist = [1, 2, 3, 4, 5]\n",
    "print(\"Sum: \", sum(mylist))"
   ]
  },
  {
   "cell_type": "markdown",
   "metadata": {},
   "source": [
    "### 2. Write a Python program to count the number of strings where the string length is 2 or more and the first and last character are same from a given list of strings.\n",
    "\tSample List : ['abc', 'xyz', 'aba', '1221']\n",
    "\tExpected Result : 2"
   ]
  },
  {
   "cell_type": "code",
   "execution_count": 20,
   "metadata": {},
   "outputs": [
    {
     "name": "stdout",
     "output_type": "stream",
     "text": [
      "2\n"
     ]
    }
   ],
   "source": [
    "def match_words(words):\n",
    "  ctr = 0\n",
    "\n",
    "  for word in words:\n",
    "    if len(word) > 1 and word[0] == word[-1]:\n",
    "      ctr += 1\n",
    "  return ctr\n",
    "\n",
    "print(match_words(['abc', 'xyz', 'aba', '1221']))"
   ]
  },
  {
   "cell_type": "markdown",
   "metadata": {},
   "source": [
    "### 3. Write a Python program to print a specified list after removing the 0th, 4th and 5th elements.\n",
    "\tSample List : ['Red', 'Green', 'White', 'Black', 'Pink', 'Yellow']\n",
    "\tExpected Output : ['Green', 'White', 'Black']\n"
   ]
  },
  {
   "cell_type": "code",
   "execution_count": 100,
   "metadata": {},
   "outputs": [
    {
     "name": "stdout",
     "output_type": "stream",
     "text": [
      "['Green', 'White', 'Black']\n"
     ]
    }
   ],
   "source": [
    "color = ['Red', 'Green', 'White', 'Black', 'Pink', 'Yellow']\n",
    "print(color[1:-2])"
   ]
  },
  {
   "cell_type": "markdown",
   "metadata": {},
   "source": [
    "### 4. Write a Python program to create a list by concatenating a given list which range goes from 1 to n.\n",
    "\tSample list : ['p', 'q']\n",
    "\tn =5\n",
    "\tSample Output : ['p1', 'q1', 'p2', 'q2', 'p3', 'q3', 'p4', 'q4', 'p5', 'q5']"
   ]
  },
  {
   "cell_type": "code",
   "execution_count": 109,
   "metadata": {},
   "outputs": [
    {
     "name": "stdout",
     "output_type": "stream",
     "text": [
      "Enter value of n: 5\n",
      "['p1', 'q1', 'p2', 'q2', 'p3', 'q3', 'p4', 'q4', 'p5', 'q5']\n"
     ]
    }
   ],
   "source": [
    "slist = ['p', 'q']\n",
    "n = int(input(\"Enter value of n: \"))\n",
    "print(['{}{}'.format(x, y) for y in range(1, n+1) for x in slist])"
   ]
  },
  {
   "cell_type": "markdown",
   "metadata": {},
   "source": [
    "### 5. Write a Python program to convert list to list of dictionaries.\n",
    "\tSample lists: [\"Black\", \"Red\", \"Maroon\", \"Yellow\"], [\"#000000\", \"#FF0000\", \"#800000\", \"#FFFF00\"]\n",
    "\tExpected Output: [{'color_name': 'Black', 'color_code': '#000000'}, {'color_name': 'Red', 'color_code': '#FF0000'}, {'color_name': 'Maroon', 'color_code': '#800000'}, {'color_name': 'Yellow', 'color_code': '#FFFF00'}]\n"
   ]
  },
  {
   "cell_type": "code",
   "execution_count": 24,
   "metadata": {},
   "outputs": [
    {
     "name": "stdout",
     "output_type": "stream",
     "text": [
      "[{'color_name': 'Black', 'color_code': '#000000'}, {'color_name': 'Red', 'color_code': '#FF0000'}, {'color_name': 'Maroon', 'color_code': '#800000'}, {'color_name': 'Yellow', 'color_code': '#FFFF00'}]\n"
     ]
    }
   ],
   "source": [
    "color_name = [\"Black\", \"Red\", \"Maroon\", \"Yellow\"]\n",
    "color_code = [\"#000000\", \"#FF0000\", \"#800000\", \"#FFFF00\"]\n",
    "print([{'color_name': f, 'color_code': c} for f, c in zip(color_name, color_code)])"
   ]
  },
  {
   "cell_type": "markdown",
   "metadata": {},
   "source": [
    "### 6. Write a Python program to replace the last element in a list with another list.\n",
    "\tSample data : [1, 3, 5, 7, 9, 10], [2, 4, 6, 8]\n",
    "\tExpected Output: [1, 3, 5, 7, 9, 2, 4, 6, 8]"
   ]
  },
  {
   "cell_type": "code",
   "execution_count": 30,
   "metadata": {},
   "outputs": [
    {
     "name": "stdout",
     "output_type": "stream",
     "text": [
      "[1, 3, 5, 7, 9, 10]\n",
      "[1, 3, 5, 7, 9, 10, 2, 4, 6, 8]\n"
     ]
    }
   ],
   "source": [
    "mylist = [1, 3, 5, 7, 9, 10]\n",
    "mylist2 = [2, 4, 6, 8]\n",
    "\n",
    "print(mylist)\n",
    "print(mylist + mylist2)"
   ]
  },
  {
   "cell_type": "markdown",
   "metadata": {},
   "source": [
    "### 7. Write a Python program to insert a given string at the beginning of all items in a list. \n",
    "\tSample list : [1,2,3,4], string : emp\n",
    "\tExpected output : ['emp1', 'emp2', 'emp3', 'emp4']"
   ]
  },
  {
   "cell_type": "code",
   "execution_count": 39,
   "metadata": {},
   "outputs": [
    {
     "name": "stdout",
     "output_type": "stream",
     "text": [
      "['emp1', 'emp2', 'emp3', 'emp4']\n"
     ]
    }
   ],
   "source": [
    "num = [1,2,3,4]\n",
    "strn = \"emp\"\n",
    "print(['{1}{0}'.format(i, strn) for i in  num])"
   ]
  },
  {
   "cell_type": "markdown",
   "metadata": {},
   "source": [
    "### 8. Write a Python program to find the list in a list of lists whose sum of elements is the highest.\n",
    "\tSample lists: [1,2,3], [4,5,6], [10,11,12], [7,8,9]\n",
    "\tExpected Output: [10, 11, 12]"
   ]
  },
  {
   "cell_type": "code",
   "execution_count": 43,
   "metadata": {},
   "outputs": [
    {
     "name": "stdout",
     "output_type": "stream",
     "text": [
      "[10, 11, 12]\n"
     ]
    }
   ],
   "source": [
    "mylist = [[1,2,3], [4, 5, 6], [10, 11, 12], [7, 8,9]]\n",
    "print(max(mylist, key=sum))"
   ]
  },
  {
   "cell_type": "markdown",
   "metadata": {},
   "source": [
    "# Dictionary"
   ]
  },
  {
   "cell_type": "markdown",
   "metadata": {},
   "source": [
    "### 1. Write a Python script to sort (ascending and descending) a dictionary by value."
   ]
  },
  {
   "cell_type": "code",
   "execution_count": 65,
   "metadata": {},
   "outputs": [
    {
     "name": "stdout",
     "output_type": "stream",
     "text": [
      "Given list:  [(1, 2), (3, 4), (4, 3), (2, 1), (0, 0)]\n",
      "Ascending order:  [(0, 0), (1, 2), (2, 1), (3, 4), (4, 3)]\n",
      "Descending order:  [(4, 3), (3, 4), (2, 1), (1, 2), (0, 0)]\n"
     ]
    }
   ],
   "source": [
    "d = {1: 2, 3: 4, 4: 3, 2: 1, 0: 0}\n",
    "l = list(d.items())\n",
    "print('Given list: ', l)\n",
    "l.sort()\n",
    "print('Ascending order: ', l)\n",
    "l.sort(reverse=True)\n",
    "print('Descending order: ', l)"
   ]
  },
  {
   "cell_type": "markdown",
   "metadata": {},
   "source": [
    "### 2. Write a Python script to add a key to a dictionary.\n",
    "\tSample Dictionary : {0: 10, 1: 20}\n",
    "\tExpected Result : {0: 10, 1: 20, 2: 30}"
   ]
  },
  {
   "cell_type": "code",
   "execution_count": 66,
   "metadata": {},
   "outputs": [
    {
     "name": "stdout",
     "output_type": "stream",
     "text": [
      "{0: 10, 1: 20, 2: 30}\n"
     ]
    }
   ],
   "source": [
    "sd = {0: 10, 1: 20}\n",
    "sd.update({2: 30})\n",
    "print(sd)"
   ]
  },
  {
   "cell_type": "markdown",
   "metadata": {},
   "source": [
    "### 3. Write a Python script to concatenate following dictionaries to create a new one.\n",
    "\tSample Dictionary : \n",
    "\tdic1={1:10, 2:20} \n",
    "\tdic2={3:30, 4:40} \n",
    "\tdic3={5:50,6:60}\n",
    "\tExpected Result : {1: 10, 2: 20, 3: 30, 4: 40, 5: 50, 6: 60}"
   ]
  },
  {
   "cell_type": "code",
   "execution_count": 78,
   "metadata": {},
   "outputs": [
    {
     "name": "stdout",
     "output_type": "stream",
     "text": [
      "{1: 10, 2: 20, 3: 30, 4: 40, 5: 50, 6: 60}\n"
     ]
    }
   ],
   "source": [
    "dic1={1:10, 2:20}  \n",
    "dic2={3:30, 4:40}  \n",
    "dic3={5:50,6:60}  \n",
    "dic4 = {}  \n",
    "for d in (dic1, dic2, dic3): dic4.update(d)  \n",
    "print(dic4)"
   ]
  },
  {
   "cell_type": "markdown",
   "metadata": {},
   "source": [
    "### 4. Write a Python script to check if a given key already exists in a dictionary."
   ]
  },
  {
   "cell_type": "code",
   "execution_count": 94,
   "metadata": {},
   "outputs": [
    {
     "name": "stdout",
     "output_type": "stream",
     "text": [
      "Enter a key: 5\n",
      "5 already exists\n"
     ]
    }
   ],
   "source": [
    "d = {1: 10, 2: 20, 3: 30, 4: 40, 5: 50, 6: 60}\n",
    "def check(x):\n",
    "    if x in d:\n",
    "        print('{} already exists'.format(x))\n",
    "    else:\n",
    "        print('{} does not exist'.format(x))\n",
    "\n",
    "x = int(input(\"Enter a key: \"))       \n",
    "check(x)"
   ]
  },
  {
   "cell_type": "markdown",
   "metadata": {},
   "source": [
    "### 5. Write a Python program to iterate over dictionaries using for loops."
   ]
  },
  {
   "cell_type": "code",
   "execution_count": 18,
   "metadata": {},
   "outputs": [
    {
     "name": "stdout",
     "output_type": "stream",
     "text": [
      "x : 1\n",
      "y : 2\n",
      "z : 3\n"
     ]
    }
   ],
   "source": [
    "d = {'x': 1, 'y': 2, 'z': 3}   \n",
    "for k, v in d.items():  \n",
    "    print(k,':',v)  "
   ]
  },
  {
   "cell_type": "markdown",
   "metadata": {},
   "source": [
    "### 6. Write a Python script to generate and print a dictionary that contains a number (between 1 and n) in the form   (x, x*x). Go to the editor\n",
    "    Sample Dictionary ( n = 5) : \n",
    "    Expected Output : {1: 1, 2: 4, 3: 9, 4: 16, 5: 25}"
   ]
  },
  {
   "cell_type": "code",
   "execution_count": 24,
   "metadata": {},
   "outputs": [
    {
     "name": "stdout",
     "output_type": "stream",
     "text": [
      "Enter a number: 5\n",
      "{1: 1, 2: 4, 3: 9, 4: 16, 5: 25}\n"
     ]
    }
   ],
   "source": [
    "n=int(input(\"Enter a number: \"))\n",
    "d = {}\n",
    "\n",
    "for x in range(1,n+1):\n",
    "    d[x]=x*x\n",
    "print(d)"
   ]
  },
  {
   "cell_type": "markdown",
   "metadata": {},
   "source": [
    "### 7. Write a Python script to merge two Python dictionaries. "
   ]
  },
  {
   "cell_type": "code",
   "execution_count": 29,
   "metadata": {},
   "outputs": [
    {
     "name": "stdout",
     "output_type": "stream",
     "text": [
      "{1: 2, 2: 3, 3: 4, 4: 5, 5: 6, 6: 7}\n"
     ]
    }
   ],
   "source": [
    "d1 = {1:2, 2:3, 3:4}\n",
    "d2 = {4:5, 5:6, 6:7}\n",
    "d = d1.copy()\n",
    "d.update(d2)\n",
    "print(d)"
   ]
  },
  {
   "cell_type": "markdown",
   "metadata": {},
   "source": [
    "### 8. Write a Python program to sum all the items in a dictionary."
   ]
  },
  {
   "cell_type": "code",
   "execution_count": 36,
   "metadata": {},
   "outputs": [
    {
     "data": {
      "text/plain": [
       "9"
      ]
     },
     "execution_count": 36,
     "metadata": {},
     "output_type": "execute_result"
    }
   ],
   "source": [
    "d1 = {'A':2, 'B':3, 'C':4}\n",
    "sum1 = sum(d1.values())\n",
    "sum1"
   ]
  },
  {
   "cell_type": "markdown",
   "metadata": {},
   "source": [
    "### 9. Write a Python program to multiply all the items in a dictionary."
   ]
  },
  {
   "cell_type": "code",
   "execution_count": 48,
   "metadata": {},
   "outputs": [
    {
     "name": "stdout",
     "output_type": "stream",
     "text": [
      "24\n"
     ]
    }
   ],
   "source": [
    "d = {'A':2, 'B':3, 'C':4}\n",
    "mul = 1\n",
    "for i in d:\n",
    "    mul = mul * d[i]\n",
    "print(mul)"
   ]
  },
  {
   "cell_type": "markdown",
   "metadata": {},
   "source": [
    "### 10. Write a Python program to remove a key from a dictionary. "
   ]
  },
  {
   "cell_type": "code",
   "execution_count": 64,
   "metadata": {},
   "outputs": [
    {
     "name": "stdout",
     "output_type": "stream",
     "text": [
      "Enter a key to remove: E\n",
      "E removed from the given dictionary.\n",
      "New dictionary: {'A': 1, 'B': 2, 'C': 3, 'D': 4}\n"
     ]
    }
   ],
   "source": [
    "d = {'A':1, 'B':2, 'C':3, 'D':4, 'E':5}\n",
    "rem = input(\"Enter a key to remove: \")\n",
    "if rem in d.keys():\n",
    "    d.pop(rem)\n",
    "    print(\"{} removed from the given dictionary.\\nNew dictionary: {}\".format(rem, d))\n",
    "else:\n",
    "    print(\"{} does not exist in the given dictionary.\\nGiven dictionary: {}\".format(rem, d))"
   ]
  },
  {
   "cell_type": "markdown",
   "metadata": {},
   "source": [
    "### 11. Write a Python program to sort a dictionary by key."
   ]
  },
  {
   "cell_type": "code",
   "execution_count": 201,
   "metadata": {},
   "outputs": [
    {
     "name": "stdout",
     "output_type": "stream",
     "text": [
      "A: 1\n",
      "B: 2\n",
      "C: 3\n",
      "D: 4\n",
      "E: 5\n"
     ]
    }
   ],
   "source": [
    "d = {'C':3, 'D':4, 'E':5, 'A':1, 'B':2}\n",
    "\n",
    "for key in sorted(d.keys()):\n",
    "    print(\"{}: {}\".format(key, d[key]))"
   ]
  },
  {
   "cell_type": "markdown",
   "metadata": {},
   "source": [
    "### 12. Write a Python program to get the maximum and minimum value in a dictionary."
   ]
  },
  {
   "cell_type": "code",
   "execution_count": 87,
   "metadata": {},
   "outputs": [
    {
     "name": "stdout",
     "output_type": "stream",
     "text": [
      "Minimum value of the given dictionary: 1\n",
      "Maximum value of the given dictionary: 5\n"
     ]
    }
   ],
   "source": [
    "d = {'C':3, 'D':4, 'E':5, 'A':1, 'B':2}\n",
    "print(\"Minimum value of the given dictionary: {}\\nMaximum value of the given dictionary: {}\".format(min(d.values()), max(d.values())))"
   ]
  },
  {
   "cell_type": "markdown",
   "metadata": {},
   "source": [
    "### 13. Write a Python program to remove duplicates from Dictionary."
   ]
  },
  {
   "cell_type": "code",
   "execution_count": 129,
   "metadata": {},
   "outputs": [
    {
     "name": "stdout",
     "output_type": "stream",
     "text": [
      "{'C': 3, 'D': 4, 'E': 5, 'A': 1, 'B': 2}\n"
     ]
    }
   ],
   "source": [
    "d = {'C':3, 'D':4, 'E':5, 'A':1, 'B':2, 'F':1}\n",
    "d1 = {}\n",
    "for k,v in d.items():\n",
    "    if v not in d1.values():\n",
    "        d1.update({k : v})\n",
    "print(d1)"
   ]
  },
  {
   "cell_type": "markdown",
   "metadata": {},
   "source": [
    "### 14. Write a Python program to combine two dictionary adding values for common keys. \n",
    "\td1 = {'a': 100, 'b': 200, 'c':300}\n",
    "\td2 = {'a': 300, 'b': 200, 'd':400}\n",
    "\tSample output: Counter({'a': 400, 'b': 400, 'd': 400, 'c': 300})"
   ]
  },
  {
   "cell_type": "code",
   "execution_count": 177,
   "metadata": {},
   "outputs": [
    {
     "name": "stdout",
     "output_type": "stream",
     "text": [
      "{'a': 100, 'b': 200, 'd': 400, 'c': 300}\n"
     ]
    }
   ],
   "source": [
    "d1 = {'a': 100, 'b': 200, 'c':300}\n",
    "d2 = {'a': 300, 'b': 200, 'd':400}\n",
    "d3 = {}\n",
    "for k in d2:\n",
    "    if k in d1:\n",
    "        d2[k] = d2[k] + d1[k]\n",
    "        d3.update(d2)\n",
    "        d3.update(d1)\n",
    "#         d3 = {**d1, **d2} //do this to update\n",
    "print(d3)"
   ]
  },
  {
   "cell_type": "markdown",
   "metadata": {},
   "source": [
    "### 15. Write a Python program to print all unique values in a dictionary. Go to the editor\n",
    "    Sample Data : [{\"V\":\"S001\"}, {\"V\": \"S002\"}, {\"VI\": \"S001\"}, {\"VI\": \"S005\"}, {\"VII\":\"S005\"}, {\"V\":\"S009\"},{\"VIII\":\"S007\"}]\n",
    "    Expected Output : Unique Values: {'S005', 'S002', 'S007', 'S001', 'S009'}"
   ]
  },
  {
   "cell_type": "code",
   "execution_count": 205,
   "metadata": {},
   "outputs": [
    {
     "name": "stdout",
     "output_type": "stream",
     "text": [
      "{'S009', 'S001', 'S007', 'S002', 'S005'}\n"
     ]
    }
   ],
   "source": [
    "d = [{\"V\":\"S001\"}, {\"V\": \"S002\"}, {\"VI\": \"S001\"}, {\"VI\": \"S005\"}, {\"VII\":\"S005\"}, {\"V\":\"S009\"},{\"VIII\":\"S007\"}]\n",
    "d1 = []\n",
    "\n",
    "for dict in d:\n",
    "    for k,v in dict.items():\n",
    "        d1.append(v)\n",
    "print(set(d1))"
   ]
  },
  {
   "cell_type": "markdown",
   "metadata": {},
   "source": [
    "# Tuple"
   ]
  },
  {
   "cell_type": "markdown",
   "metadata": {},
   "source": [
    "### 1. Write a Python program to add an item in a tuple."
   ]
  },
  {
   "cell_type": "code",
   "execution_count": 233,
   "metadata": {},
   "outputs": [
    {
     "name": "stdout",
     "output_type": "stream",
     "text": [
      "Enter a number: 4\n",
      "Enter a position: 2\n",
      "(1, 2, 4, 3)\n"
     ]
    }
   ],
   "source": [
    "newtup = int(input(\"Enter a number: \"))\n",
    "tup = (1, 2, 3)\n",
    "n = int(input(\"Enter a position: \"))\n",
    "tup = tup[ : n ] + (newtup ,) + tup[n : ]\n",
    "print(tup)"
   ]
  },
  {
   "cell_type": "markdown",
   "metadata": {},
   "source": [
    "### 2. Write a Python program to get the 4th element and 4th element from last of a tuple."
   ]
  },
  {
   "cell_type": "code",
   "execution_count": 241,
   "metadata": {},
   "outputs": [
    {
     "name": "stdout",
     "output_type": "stream",
     "text": [
      "The 4th element from the first is: 4\n",
      "The 4th element from the last is: 6\n"
     ]
    }
   ],
   "source": [
    "tup = (1, 2, 3, 4, 5, 6, 7, 8, 9)\n",
    "print(\"\"\"The 4th element from the first is: {}\n",
    "The 4th element from the last is: {}\"\"\".format(tup[3], tup[-4]))"
   ]
  },
  {
   "cell_type": "markdown",
   "metadata": {},
   "source": [
    "### 3. Write a Python program to check whether an element exists within a tuple."
   ]
  },
  {
   "cell_type": "code",
   "execution_count": 250,
   "metadata": {},
   "outputs": [
    {
     "name": "stdout",
     "output_type": "stream",
     "text": [
      "1 exists in tuple: True\n"
     ]
    }
   ],
   "source": [
    "tup = (1, 2, 3, 4, 5, 6, 7, 8, 9)\n",
    "print(\"1 exists in tuple: {}\".format(1 in tup))"
   ]
  },
  {
   "cell_type": "markdown",
   "metadata": {},
   "source": [
    "### 4. Write a Python program to convert a list to a tuple."
   ]
  },
  {
   "cell_type": "code",
   "execution_count": 254,
   "metadata": {},
   "outputs": [
    {
     "name": "stdout",
     "output_type": "stream",
     "text": [
      "List: [1, 2, 3, 4, 5]\n",
      "Tuple: (1, 2, 3, 4, 5)\n"
     ]
    }
   ],
   "source": [
    "l = [1, 2, 3, 4, 5]\n",
    "print(\"List: {}\".format(l))\n",
    "t = tuple(l)\n",
    "print(\"Tuple: {}\".format(t))"
   ]
  },
  {
   "cell_type": "markdown",
   "metadata": {},
   "source": [
    "### 5. Write a Python program to remove an item from a tuple."
   ]
  },
  {
   "cell_type": "code",
   "execution_count": 1,
   "metadata": {},
   "outputs": [
    {
     "name": "stdout",
     "output_type": "stream",
     "text": [
      "Given tuplex is: ('a', '1', 'n', 'c', 'm', 'o', 'l', 's', 'b')\n",
      "Remove from tuple: 1\n",
      "After removing: ('a', 'n', 'c', 'm', 'o', 'l', 's', 'b')\n"
     ]
    }
   ],
   "source": [
    "t = (\"a\", \"1\", \"n\", \"c\", \"m\", \"o\", \"l\", \"s\", \"b\")\n",
    "print(\"Given tuplex is: {}\".format(t))\n",
    "l = list(t)\n",
    "rem = input(\"Remove from tuple: \")\n",
    "if rem in l:\n",
    "    l.remove(rem)\n",
    "    t = tuple(l)\n",
    "    print(\"After removing: {}\".format(t))\n",
    "else:\n",
    "    print(\"{} does not exist.\".format(rem))"
   ]
  },
  {
   "cell_type": "markdown",
   "metadata": {},
   "source": [
    "### 6. Write a Python program to print a tuple with string formatting. \n",
    "\tSample tuple : (100, 200, 300)\n",
    "\tOutput : This is a tuple (100, 200, 300)"
   ]
  },
  {
   "cell_type": "code",
   "execution_count": 10,
   "metadata": {},
   "outputs": [
    {
     "name": "stdout",
     "output_type": "stream",
     "text": [
      "Tuple: (100, 200, 300)\n"
     ]
    }
   ],
   "source": [
    "t = (100, 200, 300)\n",
    "print(\"Tuple: {}\".format(t))"
   ]
  },
  {
   "cell_type": "markdown",
   "metadata": {},
   "source": [
    "### 7. Write a Python program to replace last value of tuples in a list.\n",
    "\tSample list: [(10, 20, 40), (40, 50, 60), (70, 80, 90)]\n",
    "\tExpected Output: [(10, 20, 100), (40, 50, 100), (70, 80, 100)]"
   ]
  },
  {
   "cell_type": "code",
   "execution_count": 33,
   "metadata": {},
   "outputs": [
    {
     "name": "stdout",
     "output_type": "stream",
     "text": [
      "Enter a value: 10\n",
      "Sample list: [(10, 20, 40), (40, 50, 60), (70, 80, 90)]\n",
      "Output: [(10, 20, 10), (40, 50, 10), (70, 80, 10)]\n"
     ]
    }
   ],
   "source": [
    "l = [(10, 20, 40), (40, 50, 60), (70, 80, 90)]\n",
    "l1 = []\n",
    "n = input(\"Enter a value: \")\n",
    "try:\n",
    "    if n==\"\":\n",
    "        n=0\n",
    "    else:\n",
    "        n = int(n)\n",
    "except:\n",
    "    pass\n",
    "\n",
    "for tuple in l:\n",
    "    tuple1 = tuple[:2] + (n, )\n",
    "    l1.append(tuple1)\n",
    "print(\"Sample list: {}\".format(l))\n",
    "print(\"Output: {}\".format(l1))"
   ]
  },
  {
   "cell_type": "markdown",
   "metadata": {},
   "source": [
    "### 8. Write a Python program to sort a tuple by its float element. \n",
    "\tSample data: [('item1', '12.20'), ('item2', '15.10'), ('item3', '24.5')]\n",
    "\tExpected Output: [('item3', '24.5'), ('item2', '15.10'), ('item1', '12.20')]"
   ]
  },
  {
   "cell_type": "code",
   "execution_count": 39,
   "metadata": {},
   "outputs": [
    {
     "name": "stdout",
     "output_type": "stream",
     "text": [
      "[('item3', '24.5'), ('item2', '15.10'), ('item1', '12.20')]\n"
     ]
    }
   ],
   "source": [
    "l = [('item1', '12.20'), ('item2', '15.10'), ('item3', '24.5')]\n",
    "print(sorted(l, reverse = True))"
   ]
  },
  {
   "cell_type": "markdown",
   "metadata": {},
   "source": [
    "# Sets "
   ]
  },
  {
   "cell_type": "markdown",
   "metadata": {},
   "source": [
    "### 1. Write a Python program to create a set."
   ]
  },
  {
   "cell_type": "code",
   "execution_count": 43,
   "metadata": {},
   "outputs": [
    {
     "name": "stdout",
     "output_type": "stream",
     "text": [
      "set()\n",
      "{0, 1, 2, 3, 4}\n"
     ]
    }
   ],
   "source": [
    "# Creating empty set\n",
    "x = set()\n",
    "print(x)\n",
    "\n",
    "# Creating non-empty set\n",
    "n = set([0, 1, 2, 3, 4])\n",
    "print(n)"
   ]
  },
  {
   "cell_type": "markdown",
   "metadata": {},
   "source": [
    "### 2. Write a Python program to add member(s) in a set."
   ]
  },
  {
   "cell_type": "code",
   "execution_count": 44,
   "metadata": {},
   "outputs": [
    {
     "name": "stdout",
     "output_type": "stream",
     "text": [
      "{'A'}\n",
      "{'B', 'A', 'G'}\n"
     ]
    }
   ],
   "source": [
    "s = set()\n",
    "s.add(\"A\")\n",
    "print(s)\n",
    "\n",
    "s.update([\"B\", \"G\"]) #adding multiple members\n",
    "print(s)"
   ]
  },
  {
   "cell_type": "markdown",
   "metadata": {},
   "source": [
    "### 3. Write a Python program to remove an item from a set if it is present in the set."
   ]
  },
  {
   "cell_type": "code",
   "execution_count": 2,
   "metadata": {},
   "outputs": [
    {
     "name": "stdout",
     "output_type": "stream",
     "text": [
      "Original set: {1, 2, 3, 4, 5}\n",
      "Enter an item to remove: 70\n",
      "Not in the set.\n"
     ]
    }
   ],
   "source": [
    "s = set([1, 2, 3, 4, 5])\n",
    "print(\"Original set: {}\".format(s))\n",
    "n = int(input(\"Enter an item to remove: \"))\n",
    "if n in s:\n",
    "    s.discard(n)\n",
    "    print(\"Removed. New set: {}\".format(s))    \n",
    "else:\n",
    "    print(\"Not in the set.\")"
   ]
  },
  {
   "cell_type": "markdown",
   "metadata": {},
   "source": [
    "### 4. Write a Python program to find the length of a set."
   ]
  },
  {
   "cell_type": "code",
   "execution_count": 3,
   "metadata": {},
   "outputs": [
    {
     "name": "stdout",
     "output_type": "stream",
     "text": [
      "Length of set: 5\n"
     ]
    }
   ],
   "source": [
    "s = set([1, 2, 3, 4, 5])\n",
    "print(\"Length of set: {}\".format(len(s)))"
   ]
  },
  {
   "cell_type": "markdown",
   "metadata": {},
   "source": [
    "### 5. Write a Python program to find maximum and the minimum value in a set."
   ]
  },
  {
   "cell_type": "code",
   "execution_count": 4,
   "metadata": {},
   "outputs": [
    {
     "name": "stdout",
     "output_type": "stream",
     "text": [
      "Maximum: 5\n",
      "Minimum: 1\n"
     ]
    }
   ],
   "source": [
    "s = set([1, 2, 3, 4, 5])\n",
    "print(\"Maximum: {}\".format(max(s)))\n",
    "print(\"Minimum: {}\".format(min(s)))"
   ]
  },
  {
   "cell_type": "markdown",
   "metadata": {},
   "source": [
    "# Array"
   ]
  },
  {
   "cell_type": "markdown",
   "metadata": {},
   "source": [
    "### 1. Write a Python program to create an array of 5 integers and display the array items. Access individual element through indexes."
   ]
  },
  {
   "cell_type": "code",
   "execution_count": 7,
   "metadata": {},
   "outputs": [
    {
     "name": "stdout",
     "output_type": "stream",
     "text": [
      "1\n",
      "3\n",
      "5\n",
      "7\n",
      "9\n",
      "\n",
      "Accessing individual element through index\n",
      "1\n",
      "3\n",
      "5\n"
     ]
    }
   ],
   "source": [
    "import array\n",
    "from array import *\n",
    "array_num = array('i', [1,3,5,7,9])\n",
    "for i in array_num:\n",
    "    print(i)\n",
    "    \n",
    "print(\"\\nAccessing individual element through index\")\n",
    "print(array_num[0])\n",
    "print(array_num[1])\n",
    "print(array_num[2])"
   ]
  },
  {
   "cell_type": "markdown",
   "metadata": {},
   "source": [
    "### 2.  Write a Python program to append a new item to the end of the array."
   ]
  },
  {
   "cell_type": "code",
   "execution_count": 8,
   "metadata": {},
   "outputs": [
    {
     "name": "stdout",
     "output_type": "stream",
     "text": [
      "[1, 3, 5, 7, 9, 11]\n"
     ]
    }
   ],
   "source": [
    "array_num = [1, 3, 5, 7, 9]\n",
    "array_num.append(11)\n",
    "print(array_num)"
   ]
  },
  {
   "cell_type": "markdown",
   "metadata": {},
   "source": [
    "### 3. Write a Python program to get the number of occurrences of a specified element in an array. "
   ]
  },
  {
   "cell_type": "code",
   "execution_count": 9,
   "metadata": {},
   "outputs": [
    {
     "name": "stdout",
     "output_type": "stream",
     "text": [
      "Number of occurrences of the number 3 array: 3\n"
     ]
    }
   ],
   "source": [
    "array_num = [1, 3, 5, 3, 5, 3]\n",
    "print(\"Number of occurrences of the number 3 array: \"+str(array_num.count(3)))"
   ]
  },
  {
   "cell_type": "markdown",
   "metadata": {},
   "source": [
    "### 4. Write a Python program to insert a new item before the second element in an existing array."
   ]
  },
  {
   "cell_type": "code",
   "execution_count": 10,
   "metadata": {},
   "outputs": [
    {
     "name": "stdout",
     "output_type": "stream",
     "text": [
      "[1, 4, 3, 5, 3, 5, 3]\n"
     ]
    }
   ],
   "source": [
    "array_num = [1, 3, 5, 3, 5, 3]\n",
    "array_num.insert(1, 4)\n",
    "print(array_num)"
   ]
  },
  {
   "cell_type": "markdown",
   "metadata": {},
   "source": [
    "### 5. Write a Python program to remove the first occurrence of a specified element from an array."
   ]
  },
  {
   "cell_type": "code",
   "execution_count": 11,
   "metadata": {},
   "outputs": [
    {
     "name": "stdout",
     "output_type": "stream",
     "text": [
      "[2, 5, 1]\n"
     ]
    }
   ],
   "source": [
    "array_num = [1, 2, 5,1 ]\n",
    "array_num.remove(1)\n",
    "print(array_num)"
   ]
  },
  {
   "cell_type": "markdown",
   "metadata": {},
   "source": [
    "### 6. Write a Python program to convert an array to an ordinary list with the same items."
   ]
  },
  {
   "cell_type": "code",
   "execution_count": 13,
   "metadata": {},
   "outputs": [
    {
     "name": "stdout",
     "output_type": "stream",
     "text": [
      "[1, 3, 5, 3, 7, 1, 9, 3]\n"
     ]
    }
   ],
   "source": [
    "array_num = array('i', [1, 3, 5, 3, 7, 1, 9, 3])\n",
    "\n",
    "num_list = array_num.tolist()\n",
    "\n",
    "print(num_list)"
   ]
  },
  {
   "cell_type": "code",
   "execution_count": null,
   "metadata": {},
   "outputs": [],
   "source": []
  }
 ],
 "metadata": {
  "kernelspec": {
   "display_name": "Python 3",
   "language": "python",
   "name": "python3"
  },
  "language_info": {
   "codemirror_mode": {
    "name": "ipython",
    "version": 3
   },
   "file_extension": ".py",
   "mimetype": "text/x-python",
   "name": "python",
   "nbconvert_exporter": "python",
   "pygments_lexer": "ipython3",
   "version": "3.7.3"
  }
 },
 "nbformat": 4,
 "nbformat_minor": 2
}
